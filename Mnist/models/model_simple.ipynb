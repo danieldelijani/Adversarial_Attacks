{
 "cells": [
  {
   "cell_type": "markdown",
   "id": "protected-soundtrack",
   "metadata": {},
   "source": [
    "# Code for launching White-box evasion attack on NN for the Mnist Dataset"
   ]
  },
  {
   "cell_type": "markdown",
   "id": "freelance-divide",
   "metadata": {},
   "source": [
    "## Generating the model"
   ]
  },
  {
   "cell_type": "markdown",
   "id": "demanding-baseline",
   "metadata": {},
   "source": [
    "### Imports"
   ]
  },
  {
   "cell_type": "code",
   "execution_count": 1,
   "id": "preceding-mason",
   "metadata": {},
   "outputs": [],
   "source": [
    "import tensorflow as tf\n",
    "import tensorflow_datasets as tfds\n",
    "import datetime\n",
    "import numpy as np\n",
    "import seaborn as sns\n",
    "import matplotlib.pylab as plt\n",
    "from collections import defaultdict\n",
    "import scipy as sp\n",
    "import sklearn\n",
    "import sklearn.metrics\n",
    "import itertools\n",
    "import io"
   ]
  },
  {
   "cell_type": "code",
   "execution_count": 2,
   "id": "integral-flooring",
   "metadata": {},
   "outputs": [],
   "source": [
    "%load_ext tensorboard"
   ]
  },
  {
   "cell_type": "markdown",
   "id": "positive-cooper",
   "metadata": {},
   "source": [
    "### 1. Create input pipeline"
   ]
  },
  {
   "cell_type": "markdown",
   "id": "honest-elite",
   "metadata": {},
   "source": [
    "#### Load dataset"
   ]
  },
  {
   "cell_type": "code",
   "execution_count": 3,
   "id": "professional-salon",
   "metadata": {},
   "outputs": [],
   "source": [
    "(ds_train, ds_test), ds_info = tfds.load(\n",
    "    'mnist',\n",
    "    split=['train', 'test'],\n",
    "    shuffle_files=True,\n",
    "    as_supervised=True,\n",
    "    with_info=True,\n",
    ")"
   ]
  },
  {
   "cell_type": "code",
   "execution_count": 4,
   "id": "numerical-millennium",
   "metadata": {},
   "outputs": [
    {
     "data": {
      "text/plain": [
       "tfds.core.DatasetInfo(\n",
       "    name='mnist',\n",
       "    full_name='mnist/3.0.1',\n",
       "    description=\"\"\"\n",
       "    The MNIST database of handwritten digits.\n",
       "    \"\"\",\n",
       "    homepage='http://yann.lecun.com/exdb/mnist/',\n",
       "    data_path='/Users/danieldelijani/tensorflow_datasets/mnist/3.0.1',\n",
       "    download_size=11.06 MiB,\n",
       "    dataset_size=21.00 MiB,\n",
       "    features=FeaturesDict({\n",
       "        'image': Image(shape=(28, 28, 1), dtype=tf.uint8),\n",
       "        'label': ClassLabel(shape=(), dtype=tf.int64, num_classes=10),\n",
       "    }),\n",
       "    supervised_keys=('image', 'label'),\n",
       "    disable_shuffling=False,\n",
       "    splits={\n",
       "        'test': <SplitInfo num_examples=10000, num_shards=1>,\n",
       "        'train': <SplitInfo num_examples=60000, num_shards=1>,\n",
       "    },\n",
       "    citation=\"\"\"@article{lecun2010mnist,\n",
       "      title={MNIST handwritten digit database},\n",
       "      author={LeCun, Yann and Cortes, Corinna and Burges, CJ},\n",
       "      journal={ATT Labs [Online]. Available: http://yann.lecun.com/exdb/mnist},\n",
       "      volume={2},\n",
       "      year={2010}\n",
       "    }\"\"\",\n",
       ")"
      ]
     },
     "execution_count": 4,
     "metadata": {},
     "output_type": "execute_result"
    }
   ],
   "source": [
    "ds_info"
   ]
  },
  {
   "cell_type": "markdown",
   "id": "editorial-button",
   "metadata": {},
   "source": [
    "#### Build a training pipeline"
   ]
  },
  {
   "cell_type": "code",
   "execution_count": 5,
   "id": "completed-smoke",
   "metadata": {},
   "outputs": [],
   "source": [
    "def normalize_img(image, label):\n",
    "  \"\"\"Normalizes images: `uint8` -> `float32`.\"\"\"\n",
    "  return tf.cast(image, tf.float32) / 255., label\n",
    "\n",
    "ds_train = ds_train.map(\n",
    "    normalize_img, num_parallel_calls=tf.data.AUTOTUNE)\n",
    "ds_train = ds_train.cache()\n",
    "ds_train = ds_train.shuffle(ds_info.splits['train'].num_examples)\n",
    "ds_train = ds_train.batch(128)\n",
    "ds_train = ds_train.prefetch(tf.data.AUTOTUNE)"
   ]
  },
  {
   "cell_type": "markdown",
   "id": "dangerous-tobacco",
   "metadata": {},
   "source": [
    "#### Build an evaluation pipeline"
   ]
  },
  {
   "cell_type": "code",
   "execution_count": 6,
   "id": "purple-delight",
   "metadata": {},
   "outputs": [],
   "source": [
    "ds_test = ds_test.map(\n",
    "    normalize_img, num_parallel_calls=tf.data.AUTOTUNE)\n",
    "ds_test = ds_test.batch(128)\n",
    "ds_test = ds_test.cache()\n",
    "ds_test = ds_test.prefetch(tf.data.AUTOTUNE)"
   ]
  },
  {
   "cell_type": "markdown",
   "id": "proud-satellite",
   "metadata": {},
   "source": [
    "### 2. Create and train the model"
   ]
  },
  {
   "cell_type": "markdown",
   "id": "adjacent-istanbul",
   "metadata": {},
   "source": [
    "Code for confusion martrix"
   ]
  },
  {
   "cell_type": "code",
   "execution_count": 7,
   "id": "central-above",
   "metadata": {},
   "outputs": [],
   "source": [
    "def plot_confusion_matrix(cm, class_names):\n",
    "    \"\"\"\n",
    "    Returns a matplotlib figure containing the plotted confusion matrix.\n",
    "    \n",
    "    Args:\n",
    "       cm (array, shape = [n, n]): a confusion matrix of integer classes\n",
    "       class_names (array, shape = [n]): String names of the integer classes\n",
    "    \"\"\"\n",
    "    \n",
    "    figure = plt.figure(figsize=(8, 8))\n",
    "    plt.imshow(cm, interpolation='nearest', cmap=plt.cm.Blues)\n",
    "    plt.title(\"Confusion matrix\")\n",
    "    plt.colorbar()\n",
    "    tick_marks = np.arange(len(class_names))\n",
    "    plt.xticks(tick_marks, class_names, rotation=45)\n",
    "    plt.yticks(tick_marks, class_names)\n",
    "    \n",
    "    # Normalize the confusion matrix.\n",
    "    cm = np.around(cm.astype('float') / cm.sum(axis=1)[:, np.newaxis], decimals=2)\n",
    "    \n",
    "    # Use white text if squares are dark; otherwise black.\n",
    "    threshold = cm.max() / 2.\n",
    "    \n",
    "    for i, j in itertools.product(range(cm.shape[0]), range(cm.shape[1])):\n",
    "        color = \"white\" if cm[i, j] > threshold else \"black\"\n",
    "        plt.text(j, i, cm[i, j], horizontalalignment=\"center\", color=color)\n",
    "        \n",
    "    plt.tight_layout()\n",
    "    plt.ylabel('True label')\n",
    "    plt.xlabel('Predicted label')\n",
    "    return figure\n",
    "\n",
    "def plot_to_image(figure):\n",
    "    \"\"\"\n",
    "    Converts the matplotlib plot specified by 'figure' to a PNG image and\n",
    "    returns it. The supplied figure is closed and inaccessible after this call.\n",
    "    \"\"\"\n",
    "    \n",
    "    buf = io.BytesIO()\n",
    "    \n",
    "    # Use plt.savefig to save the plot to a PNG in memory.\n",
    "    plt.savefig(buf, format='png')\n",
    "    \n",
    "    # Closing the figure prevents it from being displayed directly inside\n",
    "    # the notebook.\n",
    "    plt.close(figure)\n",
    "    buf.seek(0)\n",
    "    \n",
    "    # Use tf.image.decode_png to convert the PNG buffer\n",
    "    # to a TF image. Make sure you use 4 channels.\n",
    "    image = tf.image.decode_png(buf.getvalue(), channels=4)\n",
    "    \n",
    "    # Use tf.expand_dims to add the batch dimension\n",
    "    image = tf.expand_dims(image, 0)\n",
    "    \n",
    "    return image\n",
    "\n",
    "def log_confusion_matrix(epoch, logs):\n",
    "    \n",
    "    # Use the model to predict the values from the test_images.\n",
    "    test_pred_raw = model.predict(ds_test)\n",
    "    \n",
    "    test_pred = np.argmax(test_pred_raw, axis=1)\n",
    "    \n",
    "    test_labels = y = np.concatenate([y for x, y in ds_test], axis=0)\n",
    "    \n",
    "    # Calculate the confusion matrix using sklearn.metrics\n",
    "    cm = sklearn.metrics.confusion_matrix(test_labels, test_pred)\n",
    "    \n",
    "    figure = plot_confusion_matrix(cm, class_names=[0,1,2,3,4,5,6,7,8,9])\n",
    "    cm_image = plot_to_image(figure)\n",
    "    \n",
    "    # Log the confusion matrix as an image summary.\n",
    "    with file_writer_cm.as_default():\n",
    "        tf.summary.image(\"Confusion Matrix\", cm_image, step=epoch)"
   ]
  },
  {
   "cell_type": "markdown",
   "id": "elementary-fence",
   "metadata": {},
   "source": [
    "Code for model"
   ]
  },
  {
   "cell_type": "code",
   "execution_count": 8,
   "id": "mechanical-textbook",
   "metadata": {},
   "outputs": [
    {
     "name": "stdout",
     "output_type": "stream",
     "text": [
      "Epoch 1/6\n",
      "469/469 [==============================] - 6s 5ms/step - loss: 0.6655 - sparse_categorical_accuracy: 0.8353 - val_loss: 0.3821 - val_sparse_categorical_accuracy: 0.9032\n",
      "Epoch 2/6\n",
      "469/469 [==============================] - 2s 4ms/step - loss: 0.3605 - sparse_categorical_accuracy: 0.9025 - val_loss: 0.3179 - val_sparse_categorical_accuracy: 0.9141\n",
      "Epoch 3/6\n",
      "469/469 [==============================] - 2s 4ms/step - loss: 0.3191 - sparse_categorical_accuracy: 0.9125 - val_loss: 0.2958 - val_sparse_categorical_accuracy: 0.9176\n",
      "Epoch 4/6\n",
      "469/469 [==============================] - 2s 4ms/step - loss: 0.2992 - sparse_categorical_accuracy: 0.9172 - val_loss: 0.2842 - val_sparse_categorical_accuracy: 0.9202\n",
      "Epoch 5/6\n",
      "469/469 [==============================] - 2s 4ms/step - loss: 0.2876 - sparse_categorical_accuracy: 0.9200 - val_loss: 0.2804 - val_sparse_categorical_accuracy: 0.9221\n",
      "Epoch 6/6\n",
      "469/469 [==============================] - 2s 4ms/step - loss: 0.2797 - sparse_categorical_accuracy: 0.9223 - val_loss: 0.2743 - val_sparse_categorical_accuracy: 0.9242\n"
     ]
    },
    {
     "data": {
      "text/plain": [
       "<keras.callbacks.History at 0x7fb689f94450>"
      ]
     },
     "execution_count": 8,
     "metadata": {},
     "output_type": "execute_result"
    }
   ],
   "source": [
    "cm_callback = tf.keras.callbacks.LambdaCallback(on_epoch_end=log_confusion_matrix)\n",
    "\n",
    "model = tf.keras.models.Sequential([\n",
    "  tf.keras.layers.Flatten(input_shape=(28, 28)),\n",
    "  tf.keras.layers.Dense(10)\n",
    "])\n",
    "model.compile(\n",
    "    optimizer=tf.keras.optimizers.Adam(0.001),\n",
    "    loss=tf.keras.losses.SparseCategoricalCrossentropy(from_logits=True),\n",
    "    metrics=[tf.keras.metrics.SparseCategoricalAccuracy()],\n",
    ")\n",
    "\n",
    "log_dir = \"logs/fit/\" + datetime.datetime.now().strftime(\"%Y%m%d-%H%M%S\") + \"/model_simple\"\n",
    "file_writer_cm = tf.summary.create_file_writer(log_dir + '/cm')\n",
    "tensorboard_callback = tf.keras.callbacks.TensorBoard(log_dir=log_dir, histogram_freq=1)\n",
    "\n",
    "model.fit(\n",
    "    ds_train,\n",
    "    epochs=6,\n",
    "    validation_data=ds_test,\n",
    "    callbacks=[tensorboard_callback, cm_callback]\n",
    ")"
   ]
  },
  {
   "cell_type": "code",
   "execution_count": 9,
   "id": "wanted-grove",
   "metadata": {},
   "outputs": [
    {
     "name": "stdout",
     "output_type": "stream",
     "text": [
      "Model: \"sequential\"\n",
      "_________________________________________________________________\n",
      " Layer (type)                Output Shape              Param #   \n",
      "=================================================================\n",
      " flatten (Flatten)           (None, 784)               0         \n",
      "                                                                 \n",
      " dense (Dense)               (None, 10)                7850      \n",
      "                                                                 \n",
      "=================================================================\n",
      "Total params: 7,850\n",
      "Trainable params: 7,850\n",
      "Non-trainable params: 0\n",
      "_________________________________________________________________\n"
     ]
    }
   ],
   "source": [
    "model.summary()"
   ]
  },
  {
   "cell_type": "markdown",
   "id": "general-clerk",
   "metadata": {},
   "source": [
    "## Exploring the model"
   ]
  },
  {
   "cell_type": "markdown",
   "id": "surgical-scoop",
   "metadata": {},
   "source": [
    "### What input nodes have the most impact?"
   ]
  },
  {
   "cell_type": "code",
   "execution_count": 10,
   "id": "indie-concrete",
   "metadata": {},
   "outputs": [
    {
     "name": "stdout",
     "output_type": "stream",
     "text": [
      "dense <keras.layers.core.dense.Dense object at 0x7fb6a95d1590>\n",
      "weights: <tf.Variable 'dense/kernel:0' shape=(784, 10) dtype=float32, numpy=\n",
      "array([[ 0.00436291, -0.03574719, -0.08341525, ...,  0.07682387,\n",
      "        -0.06247932,  0.0475949 ],\n",
      "       [-0.04469063,  0.07099434, -0.05115255, ...,  0.0757811 ,\n",
      "        -0.02775674, -0.08601912],\n",
      "       [ 0.07271246,  0.06297285, -0.02743713, ..., -0.02328943,\n",
      "        -0.08244948, -0.06930631],\n",
      "       ...,\n",
      "       [-0.04816514,  0.06492514, -0.06199919, ...,  0.0695728 ,\n",
      "         0.05770912, -0.022371  ],\n",
      "       [-0.01659055, -0.04323686, -0.06279261, ...,  0.00442666,\n",
      "         0.08042157, -0.05315366],\n",
      "       [-0.00350694,  0.01652556,  0.0576852 , ..., -0.06071071,\n",
      "         0.05219739,  0.00187723]], dtype=float32)>\n",
      "bias: <tf.Variable 'dense/bias:0' shape=(10,) dtype=float32, numpy=\n",
      "array([-2.60007739e-01,  3.96177471e-01, -1.08279404e-04, -2.14804292e-01,\n",
      "        1.05309039e-01,  5.62507272e-01, -4.95355129e-02,  3.29991192e-01,\n",
      "       -7.16023743e-01, -1.41022891e-01], dtype=float32)>\n"
     ]
    }
   ],
   "source": [
    "i = 1\n",
    "layer = model.layers[i]\n",
    "weights = model.layers[i].weights[0]\n",
    "bias = model.layers[i].weights[1]\n",
    "print(layer.name, layer)\n",
    "print('weights:', weights)\n",
    "print('bias:', bias)"
   ]
  },
  {
   "cell_type": "code",
   "execution_count": 11,
   "id": "regional-librarian",
   "metadata": {},
   "outputs": [
    {
     "data": {
      "text/plain": [
       "(784,)"
      ]
     },
     "execution_count": 11,
     "metadata": {},
     "output_type": "execute_result"
    }
   ],
   "source": [
    "sum_of_weights = weights.numpy().sum(axis=1)\n",
    "sum_of_weights.shape"
   ]
  },
  {
   "cell_type": "code",
   "execution_count": 12,
   "id": "difficult-pierce",
   "metadata": {},
   "outputs": [],
   "source": [
    "reshaped_weights = np.reshape(sum_of_weights, (28, 28))"
   ]
  },
  {
   "cell_type": "code",
   "execution_count": 13,
   "id": "german-acquisition",
   "metadata": {},
   "outputs": [
    {
     "data": {
      "image/png": "[encoded data removed]",
      "text/plain": [
       "<Figure size 432x288 with 2 Axes>"
      ]
     },
     "metadata": {
      "needs_background": "light"
     },
     "output_type": "display_data"
    }
   ],
   "source": [
    "ax = sns.heatmap(reshaped_weights, linewidth=.5, cmap='vlag',vmin = -4, vmax=4)\n",
    "plt.show()"
   ]
  },
  {
   "cell_type": "code",
   "execution_count": 14,
   "id": "russian-smooth",
   "metadata": {},
   "outputs": [
    {
     "data": {
      "image/png": "[encoded data removed]",
      "text/plain": [
       "<Figure size 432x288 with 2 Axes>"
      ]
     },
     "metadata": {
      "needs_background": "light"
     },
     "output_type": "display_data"
    }
   ],
   "source": [
    "ax = sns.heatmap(reshaped_weights, linewidth=.5, cmap=sns.diverging_palette(0, 0, l=0, as_cmap=True),vmin = -4, vmax=4)\n",
    "plt.show()"
   ]
  },
  {
   "cell_type": "code",
   "execution_count": 15,
   "id": "mineral-lottery",
   "metadata": {},
   "outputs": [
    {
     "data": {
      "text/plain": [
       "<tf.Variable 'dense/bias:0' shape=(10,) dtype=float32, numpy=\n",
       "array([-2.60007739e-01,  3.96177471e-01, -1.08279404e-04, -2.14804292e-01,\n",
       "        1.05309039e-01,  5.62507272e-01, -4.95355129e-02,  3.29991192e-01,\n",
       "       -7.16023743e-01, -1.41022891e-01], dtype=float32)>"
      ]
     },
     "execution_count": 15,
     "metadata": {},
     "output_type": "execute_result"
    }
   ],
   "source": [
    "bias"
   ]
  },
  {
   "cell_type": "markdown",
   "id": "portable-telephone",
   "metadata": {},
   "source": [
    "### Tensorboard"
   ]
  },
  {
   "cell_type": "code",
   "execution_count": 16,
   "id": "suitable-closer",
   "metadata": {},
   "outputs": [],
   "source": [
    "# rm -rf ./logs/"
   ]
  },
  {
   "cell_type": "code",
   "execution_count": 17,
   "id": "recreational-colony",
   "metadata": {},
   "outputs": [
    {
     "data": {
      "text/html": [
       "\n",
       "      <iframe id=\"tensorboard-frame-62128600842a4fdb\" width=\"100%\" height=\"800\" frameborder=\"0\">\n",
       "      </iframe>\n",
       "      <script>\n",
       "        (function() {\n",
       "          const frame = document.getElementById(\"tensorboard-frame-62128600842a4fdb\");\n",
       "          const url = new URL(\"/\", window.location);\n",
       "          const port = 6008;\n",
       "          if (port) {\n",
       "            url.port = port;\n",
       "          }\n",
       "          frame.src = url;\n",
       "        })();\n",
       "      </script>\n",
       "    "
      ],
      "text/plain": [
       "<IPython.core.display.HTML object>"
      ]
     },
     "metadata": {},
     "output_type": "display_data"
    }
   ],
   "source": [
    "%tensorboard --logdir logs"
   ]
  }
 ],
 "metadata": {
  "kernelspec": {
   "display_name": "Python 3",
   "language": "python",
   "name": "python3"
  },
  "language_info": {
   "codemirror_mode": {
    "name": "ipython",
    "version": 3
   },
   "file_extension": ".py",
   "mimetype": "text/x-python",
   "name": "python",
   "nbconvert_exporter": "python",
   "pygments_lexer": "ipython3",
   "version": "3.7.4"
  }
 },
 "nbformat": 4,
 "nbformat_minor": 5
}
