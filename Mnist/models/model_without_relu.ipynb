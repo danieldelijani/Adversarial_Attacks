{
 "cells": [
  {
   "cell_type": "markdown",
   "id": "monetary-jumping",
   "metadata": {},
   "source": [
    "# Code for launching White-box evasion attack on NN for the Mnist Dataset"
   ]
  },
  {
   "cell_type": "markdown",
   "id": "major-burke",
   "metadata": {},
   "source": [
    "## Generating the model"
   ]
  },
  {
   "cell_type": "markdown",
   "id": "arranged-worst",
   "metadata": {},
   "source": [
    "### Imports"
   ]
  },
  {
   "cell_type": "code",
   "execution_count": 1,
   "id": "protected-angel",
   "metadata": {},
   "outputs": [],
   "source": [
    "import tensorflow as tf\n",
    "import tensorflow_datasets as tfds\n",
    "import datetime\n",
    "import numpy as np\n",
    "import seaborn as sns\n",
    "import matplotlib.pylab as plt\n",
    "from collections import defaultdict\n",
    "import scipy as sp\n",
    "import sklearn\n",
    "import sklearn.metrics\n",
    "import itertools\n",
    "import io"
   ]
  },
  {
   "cell_type": "code",
   "execution_count": 17,
   "id": "formal-commonwealth",
   "metadata": {},
   "outputs": [
    {
     "name": "stdout",
     "output_type": "stream",
     "text": [
      "The tensorboard extension is already loaded. To reload it, use:\n",
      "  %reload_ext tensorboard\n"
     ]
    }
   ],
   "source": [
    "%load_ext tensorboard"
   ]
  },
  {
   "cell_type": "markdown",
   "id": "accurate-fraud",
   "metadata": {},
   "source": [
    "### 1. Create input pipeline"
   ]
  },
  {
   "cell_type": "markdown",
   "id": "german-swing",
   "metadata": {},
   "source": [
    "#### Load dataset"
   ]
  },
  {
   "cell_type": "code",
   "execution_count": 3,
   "id": "personal-trademark",
   "metadata": {},
   "outputs": [],
   "source": [
    "(ds_train, ds_test), ds_info = tfds.load(\n",
    "    'mnist',\n",
    "    split=['train', 'test'],\n",
    "    shuffle_files=True,\n",
    "    as_supervised=True,\n",
    "    with_info=True,\n",
    ")"
   ]
  },
  {
   "cell_type": "code",
   "execution_count": 4,
   "id": "racial-american",
   "metadata": {},
   "outputs": [
    {
     "data": {
      "text/plain": [
       "tfds.core.DatasetInfo(\n",
       "    name='mnist',\n",
       "    full_name='mnist/3.0.1',\n",
       "    description=\"\"\"\n",
       "    The MNIST database of handwritten digits.\n",
       "    \"\"\",\n",
       "    homepage='http://yann.lecun.com/exdb/mnist/',\n",
       "    data_path='/Users/danieldelijani/tensorflow_datasets/mnist/3.0.1',\n",
       "    download_size=11.06 MiB,\n",
       "    dataset_size=21.00 MiB,\n",
       "    features=FeaturesDict({\n",
       "        'image': Image(shape=(28, 28, 1), dtype=tf.uint8),\n",
       "        'label': ClassLabel(shape=(), dtype=tf.int64, num_classes=10),\n",
       "    }),\n",
       "    supervised_keys=('image', 'label'),\n",
       "    disable_shuffling=False,\n",
       "    splits={\n",
       "        'test': <SplitInfo num_examples=10000, num_shards=1>,\n",
       "        'train': <SplitInfo num_examples=60000, num_shards=1>,\n",
       "    },\n",
       "    citation=\"\"\"@article{lecun2010mnist,\n",
       "      title={MNIST handwritten digit database},\n",
       "      author={LeCun, Yann and Cortes, Corinna and Burges, CJ},\n",
       "      journal={ATT Labs [Online]. Available: http://yann.lecun.com/exdb/mnist},\n",
       "      volume={2},\n",
       "      year={2010}\n",
       "    }\"\"\",\n",
       ")"
      ]
     },
     "execution_count": 4,
     "metadata": {},
     "output_type": "execute_result"
    }
   ],
   "source": [
    "ds_info"
   ]
  },
  {
   "cell_type": "markdown",
   "id": "amended-graham",
   "metadata": {},
   "source": [
    "#### Build a training pipeline"
   ]
  },
  {
   "cell_type": "code",
   "execution_count": 5,
   "id": "auburn-blond",
   "metadata": {},
   "outputs": [],
   "source": [
    "def normalize_img(image, label):\n",
    "  \"\"\"Normalizes images: `uint8` -> `float32`.\"\"\"\n",
    "  return tf.cast(image, tf.float32) / 255., label\n",
    "\n",
    "ds_train = ds_train.map(\n",
    "    normalize_img, num_parallel_calls=tf.data.AUTOTUNE)\n",
    "ds_train = ds_train.cache()\n",
    "ds_train = ds_train.shuffle(ds_info.splits['train'].num_examples)\n",
    "ds_train = ds_train.batch(128)\n",
    "ds_train = ds_train.prefetch(tf.data.AUTOTUNE)"
   ]
  },
  {
   "cell_type": "markdown",
   "id": "fallen-reunion",
   "metadata": {},
   "source": [
    "#### Build an evaluation pipeline"
   ]
  },
  {
   "cell_type": "code",
   "execution_count": 6,
   "id": "molecular-dragon",
   "metadata": {},
   "outputs": [],
   "source": [
    "ds_test = ds_test.map(\n",
    "    normalize_img, num_parallel_calls=tf.data.AUTOTUNE)\n",
    "ds_test = ds_test.batch(128)\n",
    "ds_test = ds_test.cache()\n",
    "ds_test = ds_test.prefetch(tf.data.AUTOTUNE)"
   ]
  },
  {
   "cell_type": "markdown",
   "id": "other-manchester",
   "metadata": {},
   "source": [
    "### 2. Create and train the model"
   ]
  },
  {
   "cell_type": "markdown",
   "id": "instructional-annotation",
   "metadata": {},
   "source": [
    "Code for confusion martrix"
   ]
  },
  {
   "cell_type": "code",
   "execution_count": 7,
   "id": "entitled-toyota",
   "metadata": {},
   "outputs": [],
   "source": [
    "def plot_confusion_matrix(cm, class_names):\n",
    "    \"\"\"\n",
    "    Returns a matplotlib figure containing the plotted confusion matrix.\n",
    "    \n",
    "    Args:\n",
    "       cm (array, shape = [n, n]): a confusion matrix of integer classes\n",
    "       class_names (array, shape = [n]): String names of the integer classes\n",
    "    \"\"\"\n",
    "    \n",
    "    figure = plt.figure(figsize=(8, 8))\n",
    "    plt.imshow(cm, interpolation='nearest', cmap=plt.cm.Blues)\n",
    "    plt.title(\"Confusion matrix\")\n",
    "    plt.colorbar()\n",
    "    tick_marks = np.arange(len(class_names))\n",
    "    plt.xticks(tick_marks, class_names, rotation=45)\n",
    "    plt.yticks(tick_marks, class_names)\n",
    "    \n",
    "    # Normalize the confusion matrix.\n",
    "    cm = np.around(cm.astype('float') / cm.sum(axis=1)[:, np.newaxis], decimals=2)\n",
    "    \n",
    "    # Use white text if squares are dark; otherwise black.\n",
    "    threshold = cm.max() / 2.\n",
    "    \n",
    "    for i, j in itertools.product(range(cm.shape[0]), range(cm.shape[1])):\n",
    "        color = \"white\" if cm[i, j] > threshold else \"black\"\n",
    "        plt.text(j, i, cm[i, j], horizontalalignment=\"center\", color=color)\n",
    "        \n",
    "    plt.tight_layout()\n",
    "    plt.ylabel('True label')\n",
    "    plt.xlabel('Predicted label')\n",
    "    return figure\n",
    "\n",
    "def plot_to_image(figure):\n",
    "    \"\"\"\n",
    "    Converts the matplotlib plot specified by 'figure' to a PNG image and\n",
    "    returns it. The supplied figure is closed and inaccessible after this call.\n",
    "    \"\"\"\n",
    "    \n",
    "    buf = io.BytesIO()\n",
    "    \n",
    "    # Use plt.savefig to save the plot to a PNG in memory.\n",
    "    plt.savefig(buf, format='png')\n",
    "    \n",
    "    # Closing the figure prevents it from being displayed directly inside\n",
    "    # the notebook.\n",
    "    plt.close(figure)\n",
    "    buf.seek(0)\n",
    "    \n",
    "    # Use tf.image.decode_png to convert the PNG buffer\n",
    "    # to a TF image. Make sure you use 4 channels.\n",
    "    image = tf.image.decode_png(buf.getvalue(), channels=4)\n",
    "    \n",
    "    # Use tf.expand_dims to add the batch dimension\n",
    "    image = tf.expand_dims(image, 0)\n",
    "    \n",
    "    return image\n",
    "\n",
    "def log_confusion_matrix(epoch, logs):\n",
    "    \n",
    "    # Use the model to predict the values from the test_images.\n",
    "    test_pred_raw = model.predict(ds_test)\n",
    "    \n",
    "    test_pred = np.argmax(test_pred_raw, axis=1)\n",
    "    \n",
    "    test_labels = y = np.concatenate([y for x, y in ds_test], axis=0)\n",
    "    \n",
    "    # Calculate the confusion matrix using sklearn.metrics\n",
    "    cm = sklearn.metrics.confusion_matrix(test_labels, test_pred)\n",
    "    \n",
    "    figure = plot_confusion_matrix(cm, class_names=[0,1,2,3,4,5,6,7,8,9])\n",
    "    cm_image = plot_to_image(figure)\n",
    "    \n",
    "    # Log the confusion matrix as an image summary.\n",
    "    with file_writer_cm.as_default():\n",
    "        tf.summary.image(\"Confusion Matrix\", cm_image, step=epoch)"
   ]
  },
  {
   "cell_type": "markdown",
   "id": "automotive-fourth",
   "metadata": {},
   "source": [
    "Code for model"
   ]
  },
  {
   "cell_type": "code",
   "execution_count": 8,
   "id": "precise-money",
   "metadata": {},
   "outputs": [
    {
     "name": "stdout",
     "output_type": "stream",
     "text": [
      "Epoch 1/6\n",
      "469/469 [==============================] - 6s 6ms/step - loss: 0.3937 - sparse_categorical_accuracy: 0.8877 - val_loss: 0.2906 - val_sparse_categorical_accuracy: 0.9206\n",
      "Epoch 2/6\n",
      "469/469 [==============================] - 2s 4ms/step - loss: 0.2897 - sparse_categorical_accuracy: 0.9197 - val_loss: 0.2819 - val_sparse_categorical_accuracy: 0.9216\n",
      "Epoch 3/6\n",
      "469/469 [==============================] - 2s 5ms/step - loss: 0.2772 - sparse_categorical_accuracy: 0.9234 - val_loss: 0.2754 - val_sparse_categorical_accuracy: 0.9229\n",
      "Epoch 4/6\n",
      "469/469 [==============================] - 3s 6ms/step - loss: 0.2708 - sparse_categorical_accuracy: 0.9243 - val_loss: 0.2797 - val_sparse_categorical_accuracy: 0.9226\n",
      "Epoch 5/6\n",
      "469/469 [==============================] - 3s 7ms/step - loss: 0.2677 - sparse_categorical_accuracy: 0.9257 - val_loss: 0.2787 - val_sparse_categorical_accuracy: 0.9213\n",
      "Epoch 6/6\n",
      "469/469 [==============================] - 3s 6ms/step - loss: 0.2629 - sparse_categorical_accuracy: 0.9266 - val_loss: 0.2806 - val_sparse_categorical_accuracy: 0.9221\n"
     ]
    },
    {
     "data": {
      "text/plain": [
       "<keras.callbacks.History at 0x7fdb62294850>"
      ]
     },
     "execution_count": 8,
     "metadata": {},
     "output_type": "execute_result"
    }
   ],
   "source": [
    "cm_callback = tf.keras.callbacks.LambdaCallback(on_epoch_end=log_confusion_matrix)\n",
    "\n",
    "model = tf.keras.models.Sequential([\n",
    "  tf.keras.layers.Flatten(input_shape=(28, 28)),\n",
    "  tf.keras.layers.Dense(128),\n",
    "  tf.keras.layers.Dense(10)\n",
    "])\n",
    "model.compile(\n",
    "    optimizer=tf.keras.optimizers.Adam(0.001),\n",
    "    loss=tf.keras.losses.SparseCategoricalCrossentropy(from_logits=True),\n",
    "    metrics=[tf.keras.metrics.SparseCategoricalAccuracy()],\n",
    ")\n",
    "\n",
    "log_dir = \"logs/fit/\" + datetime.datetime.now().strftime(\"%Y%m%d-%H%M%S\") + \"/model_without_relu\"\n",
    "file_writer_cm = tf.summary.create_file_writer(log_dir + '/cm')\n",
    "tensorboard_callback = tf.keras.callbacks.TensorBoard(log_dir=log_dir, histogram_freq=1)\n",
    "\n",
    "model.fit(\n",
    "    ds_train,\n",
    "    epochs=6,\n",
    "    validation_data=ds_test,\n",
    "    callbacks=[tensorboard_callback, cm_callback]\n",
    ")"
   ]
  },
  {
   "cell_type": "code",
   "execution_count": 9,
   "id": "wrong-array",
   "metadata": {},
   "outputs": [
    {
     "name": "stdout",
     "output_type": "stream",
     "text": [
      "Model: \"sequential\"\n",
      "_________________________________________________________________\n",
      " Layer (type)                Output Shape              Param #   \n",
      "=================================================================\n",
      " flatten (Flatten)           (None, 784)               0         \n",
      "                                                                 \n",
      " dense (Dense)               (None, 128)               100480    \n",
      "                                                                 \n",
      " dense_1 (Dense)             (None, 10)                1290      \n",
      "                                                                 \n",
      "=================================================================\n",
      "Total params: 101,770\n",
      "Trainable params: 101,770\n",
      "Non-trainable params: 0\n",
      "_________________________________________________________________\n"
     ]
    }
   ],
   "source": [
    "model.summary()"
   ]
  },
  {
   "cell_type": "markdown",
   "id": "supreme-communication",
   "metadata": {},
   "source": [
    "## Exploring the model"
   ]
  },
  {
   "cell_type": "markdown",
   "id": "scientific-vampire",
   "metadata": {},
   "source": [
    "### What input nodes have the most impact?"
   ]
  },
  {
   "cell_type": "code",
   "execution_count": 10,
   "id": "alive-ivory",
   "metadata": {},
   "outputs": [
    {
     "name": "stdout",
     "output_type": "stream",
     "text": [
      "dense <keras.layers.core.dense.Dense object at 0x7fdb81634910>\n",
      "weights: <tf.Variable 'dense/kernel:0' shape=(784, 128) dtype=float32, numpy=\n",
      "array([[-0.01994492,  0.02526677, -0.04312023, ..., -0.01264462,\n",
      "        -0.03031058, -0.05941631],\n",
      "       [ 0.00334713, -0.02425071,  0.04528963, ...,  0.04844252,\n",
      "        -0.07228647, -0.05070632],\n",
      "       [ 0.0097158 , -0.00354688,  0.0182943 , ...,  0.01625156,\n",
      "        -0.04369964, -0.01387374],\n",
      "       ...,\n",
      "       [-0.02611777,  0.03296113,  0.03300472, ..., -0.07109509,\n",
      "        -0.03621043,  0.01667942],\n",
      "       [ 0.04161131, -0.04313244, -0.03092534, ...,  0.00396317,\n",
      "         0.07863385, -0.00437856],\n",
      "       [ 0.08022612, -0.01378782, -0.02967862, ...,  0.01823619,\n",
      "        -0.04562297,  0.02662132]], dtype=float32)>\n",
      "bias: <tf.Variable 'dense/bias:0' shape=(128,) dtype=float32, numpy=\n",
      "array([-0.04683878, -0.24401274, -0.03076126,  0.27436388, -0.02921594,\n",
      "        0.06507406,  0.21551041, -0.01444369, -0.05353493,  0.14641196,\n",
      "        0.22302674,  0.2274384 , -0.05454105, -0.14978948, -0.143539  ,\n",
      "       -0.1145564 , -0.02431493, -0.05820339,  0.24740134, -0.21964978,\n",
      "        0.10646845,  0.26469293, -0.04905451,  0.03815816,  0.3108555 ,\n",
      "        0.03516562, -0.01590764,  0.12539373, -0.18273069, -0.15218475,\n",
      "       -0.01296476,  0.13019165, -0.00105843,  0.3315362 , -0.13393587,\n",
      "       -0.17463815, -0.02198197, -0.0427521 ,  0.12945828, -0.13150024,\n",
      "       -0.15732695, -0.00881325,  0.30975342, -0.1724526 , -0.06656402,\n",
      "        0.09139692,  0.00156546,  0.22154345, -0.01298934, -0.27567378,\n",
      "        0.203372  ,  0.0581542 ,  0.1583254 ,  0.00081939,  0.0314742 ,\n",
      "        0.01583062,  0.14882368,  0.11515793,  0.12320392, -0.04560253,\n",
      "       -0.14002885, -0.06861421,  0.25381798,  0.07215568, -0.2262471 ,\n",
      "        0.26004252, -0.10048319, -0.29353827,  0.14923887, -0.14733522,\n",
      "       -0.16871496,  0.01696335, -0.10826696, -0.18975197,  0.15674247,\n",
      "        0.04251658, -0.01440715,  0.15230125,  0.20010544, -0.02149058,\n",
      "        0.04364604, -0.22351864, -0.1670033 ,  0.19016613,  0.02794643,\n",
      "       -0.00267613, -0.20077577, -0.01454632, -0.18996787, -0.24419779,\n",
      "       -0.04675255,  0.0410603 , -0.29498312,  0.03002618,  0.20304659,\n",
      "       -0.15400292,  0.05011242, -0.10699696,  0.05937416, -0.01942346,\n",
      "        0.24928473,  0.29229215,  0.13936332,  0.16735286, -0.02434012,\n",
      "        0.0653107 , -0.03624605, -0.10632402,  0.02058254, -0.11545409,\n",
      "        0.11743833, -0.00684476,  0.1779703 , -0.01402984,  0.06688044,\n",
      "        0.02300221,  0.19571699, -0.04086985, -0.04787458,  0.13673455,\n",
      "       -0.13755676,  0.02989158, -0.05374426,  0.30651096, -0.17249733,\n",
      "        0.15697227,  0.20276287, -0.25742757], dtype=float32)>\n"
     ]
    }
   ],
   "source": [
    "i = 1\n",
    "layer = model.layers[i]\n",
    "weights = model.layers[i].weights[0]\n",
    "bias = model.layers[i].weights[1]\n",
    "print(layer.name, layer)\n",
    "print('weights:', weights)\n",
    "print('bias:', bias)"
   ]
  },
  {
   "cell_type": "code",
   "execution_count": 11,
   "id": "detected-story",
   "metadata": {},
   "outputs": [
    {
     "data": {
      "text/plain": [
       "(784,)"
      ]
     },
     "execution_count": 11,
     "metadata": {},
     "output_type": "execute_result"
    }
   ],
   "source": [
    "sum_of_weights = weights.numpy().sum(axis=1)\n",
    "sum_of_weights.shape"
   ]
  },
  {
   "cell_type": "code",
   "execution_count": 12,
   "id": "worth-trash",
   "metadata": {},
   "outputs": [],
   "source": [
    "reshaped_weights = np.reshape(sum_of_weights, (28, 28))"
   ]
  },
  {
   "cell_type": "code",
   "execution_count": 13,
   "id": "solved-capacity",
   "metadata": {},
   "outputs": [
    {
     "data": {
      "image/png": "[encoded data removed]",
      "text/plain": [
       "<Figure size 432x288 with 2 Axes>"
      ]
     },
     "metadata": {
      "needs_background": "light"
     },
     "output_type": "display_data"
    }
   ],
   "source": [
    "ax = sns.heatmap(reshaped_weights, linewidth=.5, cmap='vlag',vmin = -4, vmax=4)\n",
    "plt.show()"
   ]
  },
  {
   "cell_type": "code",
   "execution_count": 14,
   "id": "formal-nerve",
   "metadata": {},
   "outputs": [
    {
     "data": {
      "image/png": "[encoded data removed]",
      "text/plain": [
       "<Figure size 432x288 with 2 Axes>"
      ]
     },
     "metadata": {
      "needs_background": "light"
     },
     "output_type": "display_data"
    }
   ],
   "source": [
    "ax = sns.heatmap(reshaped_weights, linewidth=.5, cmap=sns.diverging_palette(0, 0, l=0, as_cmap=True),vmin = -4, vmax=4)\n",
    "plt.show()"
   ]
  },
  {
   "cell_type": "code",
   "execution_count": 15,
   "id": "billion-millennium",
   "metadata": {},
   "outputs": [
    {
     "data": {
      "text/plain": [
       "<tf.Variable 'dense/bias:0' shape=(128,) dtype=float32, numpy=\n",
       "array([-0.04683878, -0.24401274, -0.03076126,  0.27436388, -0.02921594,\n",
       "        0.06507406,  0.21551041, -0.01444369, -0.05353493,  0.14641196,\n",
       "        0.22302674,  0.2274384 , -0.05454105, -0.14978948, -0.143539  ,\n",
       "       -0.1145564 , -0.02431493, -0.05820339,  0.24740134, -0.21964978,\n",
       "        0.10646845,  0.26469293, -0.04905451,  0.03815816,  0.3108555 ,\n",
       "        0.03516562, -0.01590764,  0.12539373, -0.18273069, -0.15218475,\n",
       "       -0.01296476,  0.13019165, -0.00105843,  0.3315362 , -0.13393587,\n",
       "       -0.17463815, -0.02198197, -0.0427521 ,  0.12945828, -0.13150024,\n",
       "       -0.15732695, -0.00881325,  0.30975342, -0.1724526 , -0.06656402,\n",
       "        0.09139692,  0.00156546,  0.22154345, -0.01298934, -0.27567378,\n",
       "        0.203372  ,  0.0581542 ,  0.1583254 ,  0.00081939,  0.0314742 ,\n",
       "        0.01583062,  0.14882368,  0.11515793,  0.12320392, -0.04560253,\n",
       "       -0.14002885, -0.06861421,  0.25381798,  0.07215568, -0.2262471 ,\n",
       "        0.26004252, -0.10048319, -0.29353827,  0.14923887, -0.14733522,\n",
       "       -0.16871496,  0.01696335, -0.10826696, -0.18975197,  0.15674247,\n",
       "        0.04251658, -0.01440715,  0.15230125,  0.20010544, -0.02149058,\n",
       "        0.04364604, -0.22351864, -0.1670033 ,  0.19016613,  0.02794643,\n",
       "       -0.00267613, -0.20077577, -0.01454632, -0.18996787, -0.24419779,\n",
       "       -0.04675255,  0.0410603 , -0.29498312,  0.03002618,  0.20304659,\n",
       "       -0.15400292,  0.05011242, -0.10699696,  0.05937416, -0.01942346,\n",
       "        0.24928473,  0.29229215,  0.13936332,  0.16735286, -0.02434012,\n",
       "        0.0653107 , -0.03624605, -0.10632402,  0.02058254, -0.11545409,\n",
       "        0.11743833, -0.00684476,  0.1779703 , -0.01402984,  0.06688044,\n",
       "        0.02300221,  0.19571699, -0.04086985, -0.04787458,  0.13673455,\n",
       "       -0.13755676,  0.02989158, -0.05374426,  0.30651096, -0.17249733,\n",
       "        0.15697227,  0.20276287, -0.25742757], dtype=float32)>"
      ]
     },
     "execution_count": 15,
     "metadata": {},
     "output_type": "execute_result"
    }
   ],
   "source": [
    "bias"
   ]
  },
  {
   "cell_type": "markdown",
   "id": "outdoor-straight",
   "metadata": {},
   "source": [
    "### Tensorboard"
   ]
  },
  {
   "cell_type": "code",
   "execution_count": 18,
   "id": "every-whole",
   "metadata": {},
   "outputs": [
    {
     "data": {
      "text/plain": [
       "Reusing TensorBoard on port 6006 (pid 13388), started 1 day, 12:33:03 ago. (Use '!kill 13388' to kill it.)"
      ]
     },
     "metadata": {},
     "output_type": "display_data"
    },
    {
     "data": {
      "text/html": [
       "\n",
       "      <iframe id=\"tensorboard-frame-18cbe193f8791a4e\" width=\"100%\" height=\"800\" frameborder=\"0\">\n",
       "      </iframe>\n",
       "      <script>\n",
       "        (function() {\n",
       "          const frame = document.getElementById(\"tensorboard-frame-18cbe193f8791a4e\");\n",
       "          const url = new URL(\"/\", window.location);\n",
       "          const port = 6006;\n",
       "          if (port) {\n",
       "            url.port = port;\n",
       "          }\n",
       "          frame.src = url;\n",
       "        })();\n",
       "      </script>\n",
       "    "
      ],
      "text/plain": [
       "<IPython.core.display.HTML object>"
      ]
     },
     "metadata": {},
     "output_type": "display_data"
    }
   ],
   "source": [
    "%tensorboard --logdir logs"
   ]
  },
  {
   "cell_type": "code",
   "execution_count": null,
   "id": "infrared-administration",
   "metadata": {},
   "outputs": [],
   "source": []
  }
 ],
 "metadata": {
  "kernelspec": {
   "display_name": "Python 3",
   "language": "python",
   "name": "python3"
  },
  "language_info": {
   "codemirror_mode": {
    "name": "ipython",
    "version": 3
   },
   "file_extension": ".py",
   "mimetype": "text/x-python",
   "name": "python",
   "nbconvert_exporter": "python",
   "pygments_lexer": "ipython3",
   "version": "3.7.4"
  }
 },
 "nbformat": 4,
 "nbformat_minor": 5
}
