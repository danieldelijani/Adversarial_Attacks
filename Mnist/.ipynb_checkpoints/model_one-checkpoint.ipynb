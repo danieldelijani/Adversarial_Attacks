{
 "cells": [
  {
   "cell_type": "markdown",
   "id": "textile-patrick",
   "metadata": {},
   "source": [
    "# Code for launching White-box evasion attack on NN for the Mnist Dataset"
   ]
  },
  {
   "cell_type": "markdown",
   "id": "hundred-fundamental",
   "metadata": {},
   "source": [
    "## Generating the model"
   ]
  },
  {
   "cell_type": "markdown",
   "id": "powerful-transport",
   "metadata": {},
   "source": [
    "### Imports"
   ]
  },
  {
   "cell_type": "code",
   "execution_count": 1,
   "id": "imposed-mistake",
   "metadata": {},
   "outputs": [],
   "source": [
    "import tensorflow as tf\n",
    "import tensorflow_datasets as tfds\n",
    "import datetime\n",
    "import numpy as np\n",
    "import seaborn as sns\n",
    "import matplotlib.pylab as plt\n",
    "from collections import defaultdict\n",
    "import scipy as sp\n",
    "import sklearn\n",
    "import sklearn.metrics\n",
    "import itertools\n",
    "import io"
   ]
  },
  {
   "cell_type": "code",
   "execution_count": 2,
   "id": "renewable-pride",
   "metadata": {},
   "outputs": [],
   "source": [
    "%load_ext tensorboard"
   ]
  },
  {
   "cell_type": "markdown",
   "id": "tested-witness",
   "metadata": {},
   "source": [
    "### 1. Create input pipeline"
   ]
  },
  {
   "cell_type": "markdown",
   "id": "entertaining-singer",
   "metadata": {},
   "source": [
    "#### Load dataset"
   ]
  },
  {
   "cell_type": "code",
   "execution_count": 3,
   "id": "vanilla-arcade",
   "metadata": {},
   "outputs": [],
   "source": [
    "(ds_train, ds_test), ds_info = tfds.load(\n",
    "    'mnist',\n",
    "    split=['train', 'test'],\n",
    "    shuffle_files=True,\n",
    "    as_supervised=True,\n",
    "    with_info=True,\n",
    ")"
   ]
  },
  {
   "cell_type": "code",
   "execution_count": 4,
   "id": "appreciated-summary",
   "metadata": {},
   "outputs": [
    {
     "data": {
      "text/plain": [
       "tfds.core.DatasetInfo(\n",
       "    name='mnist',\n",
       "    full_name='mnist/3.0.1',\n",
       "    description=\"\"\"\n",
       "    The MNIST database of handwritten digits.\n",
       "    \"\"\",\n",
       "    homepage='http://yann.lecun.com/exdb/mnist/',\n",
       "    data_path='/Users/danieldelijani/tensorflow_datasets/mnist/3.0.1',\n",
       "    download_size=11.06 MiB,\n",
       "    dataset_size=21.00 MiB,\n",
       "    features=FeaturesDict({\n",
       "        'image': Image(shape=(28, 28, 1), dtype=tf.uint8),\n",
       "        'label': ClassLabel(shape=(), dtype=tf.int64, num_classes=10),\n",
       "    }),\n",
       "    supervised_keys=('image', 'label'),\n",
       "    disable_shuffling=False,\n",
       "    splits={\n",
       "        'test': <SplitInfo num_examples=10000, num_shards=1>,\n",
       "        'train': <SplitInfo num_examples=60000, num_shards=1>,\n",
       "    },\n",
       "    citation=\"\"\"@article{lecun2010mnist,\n",
       "      title={MNIST handwritten digit database},\n",
       "      author={LeCun, Yann and Cortes, Corinna and Burges, CJ},\n",
       "      journal={ATT Labs [Online]. Available: http://yann.lecun.com/exdb/mnist},\n",
       "      volume={2},\n",
       "      year={2010}\n",
       "    }\"\"\",\n",
       ")"
      ]
     },
     "execution_count": 4,
     "metadata": {},
     "output_type": "execute_result"
    }
   ],
   "source": [
    "ds_info"
   ]
  },
  {
   "cell_type": "markdown",
   "id": "regional-queens",
   "metadata": {},
   "source": [
    "#### Build a training pipeline"
   ]
  },
  {
   "cell_type": "code",
   "execution_count": 5,
   "id": "rational-statement",
   "metadata": {},
   "outputs": [],
   "source": [
    "def normalize_img(image, label):\n",
    "  \"\"\"Normalizes images: `uint8` -> `float32`.\"\"\"\n",
    "  return tf.cast(image, tf.float32) / 255., label\n",
    "\n",
    "ds_train = ds_train.map(\n",
    "    normalize_img, num_parallel_calls=tf.data.AUTOTUNE)\n",
    "ds_train = ds_train.cache()\n",
    "ds_train = ds_train.shuffle(ds_info.splits['train'].num_examples)\n",
    "ds_train = ds_train.batch(128)\n",
    "ds_train = ds_train.prefetch(tf.data.AUTOTUNE)"
   ]
  },
  {
   "cell_type": "markdown",
   "id": "falling-forum",
   "metadata": {},
   "source": [
    "#### Build an evaluation pipeline"
   ]
  },
  {
   "cell_type": "code",
   "execution_count": 6,
   "id": "flying-chicken",
   "metadata": {},
   "outputs": [],
   "source": [
    "ds_test = ds_test.map(\n",
    "    normalize_img, num_parallel_calls=tf.data.AUTOTUNE)\n",
    "ds_test = ds_test.batch(128)\n",
    "ds_test = ds_test.cache()\n",
    "ds_test = ds_test.prefetch(tf.data.AUTOTUNE)"
   ]
  },
  {
   "cell_type": "markdown",
   "id": "regulated-tyler",
   "metadata": {},
   "source": [
    "### 2. Create and train the model"
   ]
  },
  {
   "cell_type": "markdown",
   "id": "gothic-siemens",
   "metadata": {},
   "source": [
    "Code for confusion martrix"
   ]
  },
  {
   "cell_type": "code",
   "execution_count": 7,
   "id": "mediterranean-headset",
   "metadata": {},
   "outputs": [],
   "source": [
    "def plot_confusion_matrix(cm, class_names):\n",
    "    \"\"\"\n",
    "    Returns a matplotlib figure containing the plotted confusion matrix.\n",
    "    \n",
    "    Args:\n",
    "       cm (array, shape = [n, n]): a confusion matrix of integer classes\n",
    "       class_names (array, shape = [n]): String names of the integer classes\n",
    "    \"\"\"\n",
    "    \n",
    "    figure = plt.figure(figsize=(8, 8))\n",
    "    plt.imshow(cm, interpolation='nearest', cmap=plt.cm.Blues)\n",
    "    plt.title(\"Confusion matrix\")\n",
    "    plt.colorbar()\n",
    "    tick_marks = np.arange(len(class_names))\n",
    "    plt.xticks(tick_marks, class_names, rotation=45)\n",
    "    plt.yticks(tick_marks, class_names)\n",
    "    \n",
    "    # Normalize the confusion matrix.\n",
    "    cm = np.around(cm.astype('float') / cm.sum(axis=1)[:, np.newaxis], decimals=2)\n",
    "    \n",
    "    # Use white text if squares are dark; otherwise black.\n",
    "    threshold = cm.max() / 2.\n",
    "    \n",
    "    for i, j in itertools.product(range(cm.shape[0]), range(cm.shape[1])):\n",
    "        color = \"white\" if cm[i, j] > threshold else \"black\"\n",
    "        plt.text(j, i, cm[i, j], horizontalalignment=\"center\", color=color)\n",
    "        \n",
    "    plt.tight_layout()\n",
    "    plt.ylabel('True label')\n",
    "    plt.xlabel('Predicted label')\n",
    "    return figure\n",
    "\n",
    "def plot_to_image(figure):\n",
    "    \"\"\"\n",
    "    Converts the matplotlib plot specified by 'figure' to a PNG image and\n",
    "    returns it. The supplied figure is closed and inaccessible after this call.\n",
    "    \"\"\"\n",
    "    \n",
    "    buf = io.BytesIO()\n",
    "    \n",
    "    # Use plt.savefig to save the plot to a PNG in memory.\n",
    "    plt.savefig(buf, format='png')\n",
    "    \n",
    "    # Closing the figure prevents it from being displayed directly inside\n",
    "    # the notebook.\n",
    "    plt.close(figure)\n",
    "    buf.seek(0)\n",
    "    \n",
    "    # Use tf.image.decode_png to convert the PNG buffer\n",
    "    # to a TF image. Make sure you use 4 channels.\n",
    "    image = tf.image.decode_png(buf.getvalue(), channels=4)\n",
    "    \n",
    "    # Use tf.expand_dims to add the batch dimension\n",
    "    image = tf.expand_dims(image, 0)\n",
    "    \n",
    "    return image\n",
    "\n",
    "def log_confusion_matrix(epoch, logs):\n",
    "    \n",
    "    # Use the model to predict the values from the test_images.\n",
    "    test_pred_raw = model.predict(ds_test)\n",
    "    \n",
    "    test_pred = np.argmax(test_pred_raw, axis=1)\n",
    "    \n",
    "    test_labels = y = np.concatenate([y for x, y in ds_test], axis=0)\n",
    "    \n",
    "    # Calculate the confusion matrix using sklearn.metrics\n",
    "    cm = sklearn.metrics.confusion_matrix(test_labels, test_pred)\n",
    "    \n",
    "    figure = plot_confusion_matrix(cm, class_names=[0,1,2,3,4,5,6,7,8,9])\n",
    "    cm_image = plot_to_image(figure)\n",
    "    \n",
    "    # Log the confusion matrix as an image summary.\n",
    "    with file_writer_cm.as_default():\n",
    "        tf.summary.image(\"Confusion Matrix\", cm_image, step=epoch)"
   ]
  },
  {
   "cell_type": "markdown",
   "id": "mexican-accent",
   "metadata": {},
   "source": [
    "Code for model"
   ]
  },
  {
   "cell_type": "code",
   "execution_count": 8,
   "id": "hourly-satisfaction",
   "metadata": {},
   "outputs": [
    {
     "name": "stdout",
     "output_type": "stream",
     "text": [
      "Epoch 1/6\n",
      "469/469 [==============================] - 9s 10ms/step - loss: 0.3565 - sparse_categorical_accuracy: 0.9010 - val_loss: 0.1925 - val_sparse_categorical_accuracy: 0.9443\n",
      "Epoch 2/6\n",
      "469/469 [==============================] - 3s 5ms/step - loss: 0.1634 - sparse_categorical_accuracy: 0.9533 - val_loss: 0.1312 - val_sparse_categorical_accuracy: 0.9621\n",
      "Epoch 3/6\n",
      "469/469 [==============================] - 3s 5ms/step - loss: 0.1170 - sparse_categorical_accuracy: 0.9661 - val_loss: 0.1043 - val_sparse_categorical_accuracy: 0.9699\n",
      "Epoch 4/6\n",
      "469/469 [==============================] - 4s 7ms/step - loss: 0.0898 - sparse_categorical_accuracy: 0.9745 - val_loss: 0.0930 - val_sparse_categorical_accuracy: 0.9741\n",
      "Epoch 5/6\n",
      "469/469 [==============================] - 3s 5ms/step - loss: 0.0722 - sparse_categorical_accuracy: 0.9791 - val_loss: 0.0843 - val_sparse_categorical_accuracy: 0.9751\n",
      "Epoch 6/6\n",
      "469/469 [==============================] - 3s 6ms/step - loss: 0.0600 - sparse_categorical_accuracy: 0.9823 - val_loss: 0.0854 - val_sparse_categorical_accuracy: 0.9746\n"
     ]
    },
    {
     "data": {
      "text/plain": [
       "<keras.callbacks.History at 0x7faa29e9c9d0>"
      ]
     },
     "execution_count": 8,
     "metadata": {},
     "output_type": "execute_result"
    }
   ],
   "source": [
    "cm_callback = tf.keras.callbacks.LambdaCallback(on_epoch_end=log_confusion_matrix)\n",
    "\n",
    "model = tf.keras.models.Sequential([\n",
    "  tf.keras.layers.Flatten(input_shape=(28, 28)),\n",
    "  tf.keras.layers.Dense(128, activation='relu'),\n",
    "  tf.keras.layers.Dense(10)\n",
    "])\n",
    "model.compile(\n",
    "    optimizer=tf.keras.optimizers.Adam(0.001),\n",
    "    loss=tf.keras.losses.SparseCategoricalCrossentropy(from_logits=True),\n",
    "    metrics=[tf.keras.metrics.SparseCategoricalAccuracy()],\n",
    ")\n",
    "\n",
    "log_dir = \"logs/fit/\" + datetime.datetime.now().strftime(\"%Y%m%d-%H%M%S\")\n",
    "file_writer_cm = tf.summary.create_file_writer(log_dir + '/cm')\n",
    "tensorboard_callback = tf.keras.callbacks.TensorBoard(log_dir=log_dir, histogram_freq=1)\n",
    "\n",
    "model.fit(\n",
    "    ds_train,\n",
    "    epochs=6,\n",
    "    validation_data=ds_test,\n",
    "    callbacks=[tensorboard_callback, cm_callback]\n",
    ")"
   ]
  },
  {
   "cell_type": "code",
   "execution_count": 9,
   "id": "broken-prevention",
   "metadata": {},
   "outputs": [
    {
     "name": "stdout",
     "output_type": "stream",
     "text": [
      "Model: \"sequential\"\n",
      "_________________________________________________________________\n",
      " Layer (type)                Output Shape              Param #   \n",
      "=================================================================\n",
      " flatten (Flatten)           (None, 784)               0         \n",
      "                                                                 \n",
      " dense (Dense)               (None, 128)               100480    \n",
      "                                                                 \n",
      " dense_1 (Dense)             (None, 10)                1290      \n",
      "                                                                 \n",
      "=================================================================\n",
      "Total params: 101,770\n",
      "Trainable params: 101,770\n",
      "Non-trainable params: 0\n",
      "_________________________________________________________________\n"
     ]
    }
   ],
   "source": [
    "model.summary()"
   ]
  },
  {
   "cell_type": "markdown",
   "id": "toxic-aurora",
   "metadata": {},
   "source": [
    "## Exploring the model"
   ]
  },
  {
   "cell_type": "markdown",
   "id": "infinite-chest",
   "metadata": {},
   "source": [
    "### What input nodes have the most impact?"
   ]
  },
  {
   "cell_type": "code",
   "execution_count": 10,
   "id": "failing-tobacco",
   "metadata": {},
   "outputs": [
    {
     "name": "stdout",
     "output_type": "stream",
     "text": [
      "dense <keras.layers.core.dense.Dense object at 0x7faa29e6ecd0>\n",
      "weights: <tf.Variable 'dense/kernel:0' shape=(784, 128) dtype=float32, numpy=\n",
      "array([[ 0.00904493, -0.07677783,  0.04336778, ..., -0.07606318,\n",
      "        -0.04409283,  0.07342757],\n",
      "       [-0.06804036,  0.03350333,  0.01203231, ..., -0.03475052,\n",
      "         0.05741257, -0.01009975],\n",
      "       [-0.05046977,  0.03749151, -0.04975652, ...,  0.04911483,\n",
      "         0.00311875, -0.02539285],\n",
      "       ...,\n",
      "       [ 0.04642332, -0.0761767 ,  0.08036827, ..., -0.07526509,\n",
      "        -0.05277486, -0.08095482],\n",
      "       [-0.06984064,  0.04716092, -0.06479871, ...,  0.05913685,\n",
      "         0.07252427, -0.02225504],\n",
      "       [ 0.00819741, -0.08077958, -0.05202422, ..., -0.0229376 ,\n",
      "        -0.05546859,  0.05851813]], dtype=float32)>\n",
      "bias: <tf.Variable 'dense/bias:0' shape=(128,) dtype=float32, numpy=\n",
      "array([ 1.11985235e-02,  1.21817395e-01,  5.22107780e-02,  1.19202517e-01,\n",
      "        1.20318435e-01,  7.97524452e-02, -4.04902026e-02, -7.71701057e-03,\n",
      "        7.46768340e-02, -6.70172498e-02, -1.41306603e-02,  3.42563465e-02,\n",
      "        8.25886950e-02,  6.45305514e-02, -7.90602155e-03,  1.08993009e-01,\n",
      "       -5.07556386e-02, -8.31770152e-02, -2.61872094e-02, -7.38773197e-02,\n",
      "        9.06203091e-02,  1.29102141e-01, -6.61570957e-05,  8.13663974e-02,\n",
      "        4.32691583e-03,  8.71406198e-02,  1.23294234e-01,  1.63794123e-02,\n",
      "        6.04655175e-03,  1.14676036e-01,  8.22085515e-02, -7.44608343e-02,\n",
      "       -3.05462573e-02, -8.31027627e-02,  4.78464477e-02,  5.89376986e-02,\n",
      "        1.00511201e-01,  1.37508601e-01, -2.57734326e-03, -6.78736344e-02,\n",
      "       -1.90575290e-02,  1.89032424e-02,  1.54181179e-02,  4.83981185e-02,\n",
      "        4.84521277e-02,  9.70385522e-02,  8.93392116e-02, -1.06004089e-01,\n",
      "        1.09550990e-01,  8.20436925e-02, -2.60549225e-02,  5.93712144e-02,\n",
      "       -5.90804853e-02, -6.74912706e-02, -1.62637204e-01,  7.22143799e-02,\n",
      "        1.28418401e-01,  3.84307355e-02,  2.32308097e-02,  1.11372629e-02,\n",
      "        1.42289370e-01,  9.59856843e-05,  1.11137651e-01,  1.57026619e-01,\n",
      "        7.18681589e-02, -5.12311161e-02, -8.99645463e-02, -5.05797751e-02,\n",
      "       -1.02420844e-01,  5.52130155e-02, -4.86850441e-02, -6.82578832e-02,\n",
      "        5.89730367e-02,  9.25538838e-02,  7.71589577e-02,  7.50082433e-02,\n",
      "       -4.69299555e-02,  1.23347184e-02,  3.66125591e-02, -2.53211446e-02,\n",
      "        1.92133591e-01,  9.42336954e-03,  3.25633958e-02,  1.71886291e-02,\n",
      "       -2.25498546e-02,  8.17103311e-02, -3.76124904e-02,  9.55566987e-02,\n",
      "       -2.40299944e-03,  4.62146960e-02,  1.51286170e-01,  5.70502132e-02,\n",
      "       -2.15607509e-02,  5.51981702e-02,  5.92228062e-02, -7.01169204e-03,\n",
      "        7.19078770e-03,  2.70263199e-02,  9.15474370e-02,  1.99714415e-02,\n",
      "        6.88067228e-02,  1.46310600e-02,  7.84737431e-03, -1.25334740e-01,\n",
      "        3.40730175e-02, -2.68032476e-02,  4.59572673e-03, -4.69819903e-02,\n",
      "        8.14389437e-02,  1.05516529e-02, -1.70405321e-02,  1.13539724e-02,\n",
      "        1.08954176e-01, -1.13069981e-01, -4.17399816e-02, -3.03593948e-02,\n",
      "        7.14036748e-02,  5.90344630e-02,  6.01534033e-03, -9.35999751e-02,\n",
      "        9.54079628e-02,  9.38930362e-02, -6.07789420e-02, -7.72718638e-02,\n",
      "       -4.92090806e-02,  2.82057710e-02,  1.32192140e-02,  9.83887985e-02],\n",
      "      dtype=float32)>\n"
     ]
    }
   ],
   "source": [
    "i = 1\n",
    "layer = model.layers[i]\n",
    "weights = model.layers[i].weights[0]\n",
    "bias = model.layers[i].weights[1]\n",
    "print(layer.name, layer)\n",
    "print('weights:', weights)\n",
    "print('bias:', bias)"
   ]
  },
  {
   "cell_type": "code",
   "execution_count": 11,
   "id": "floppy-technology",
   "metadata": {},
   "outputs": [
    {
     "data": {
      "text/plain": [
       "(784,)"
      ]
     },
     "execution_count": 11,
     "metadata": {},
     "output_type": "execute_result"
    }
   ],
   "source": [
    "sum_of_weights = weights.numpy().sum(axis=1)\n",
    "sum_of_weights.shape"
   ]
  },
  {
   "cell_type": "code",
   "execution_count": 12,
   "id": "wicked-exhibit",
   "metadata": {},
   "outputs": [],
   "source": [
    "reshaped_weights = np.reshape(sum_of_weights, (28, 28))"
   ]
  },
  {
   "cell_type": "code",
   "execution_count": 13,
   "id": "dedicated-appendix",
   "metadata": {},
   "outputs": [
    {
     "data": {
      "image/png": "[encoded data removed]",
      "text/plain": [
       "<Figure size 432x288 with 2 Axes>"
      ]
     },
     "metadata": {
      "needs_background": "light"
     },
     "output_type": "display_data"
    }
   ],
   "source": [
    "ax = sns.heatmap(reshaped_weights, linewidth=.5, cmap='vlag',vmin = -4, vmax=4)\n",
    "plt.show()"
   ]
  },
  {
   "cell_type": "code",
   "execution_count": 14,
   "id": "protected-equivalent",
   "metadata": {},
   "outputs": [
    {
     "data": {
      "image/png": "[encoded data removed]",
      "text/plain": [
       "<Figure size 432x288 with 2 Axes>"
      ]
     },
     "metadata": {
      "needs_background": "light"
     },
     "output_type": "display_data"
    }
   ],
   "source": [
    "ax = sns.heatmap(reshaped_weights, linewidth=.5, cmap=sns.diverging_palette(0, 0, l=0, as_cmap=True),vmin = -4, vmax=4)\n",
    "plt.show()"
   ]
  },
  {
   "cell_type": "markdown",
   "id": "bibliographic-porcelain",
   "metadata": {},
   "source": [
    "### Tensorboard"
   ]
  },
  {
   "cell_type": "code",
   "execution_count": 15,
   "id": "standard-header",
   "metadata": {},
   "outputs": [
    {
     "data": {
      "text/plain": [
       "Reusing TensorBoard on port 6006 (pid 2553), started 0:34:17 ago. (Use '!kill 2553' to kill it.)"
      ]
     },
     "metadata": {},
     "output_type": "display_data"
    },
    {
     "data": {
      "text/html": [
       "\n",
       "      <iframe id=\"tensorboard-frame-48b2715309a7781f\" width=\"100%\" height=\"800\" frameborder=\"0\">\n",
       "      </iframe>\n",
       "      <script>\n",
       "        (function() {\n",
       "          const frame = document.getElementById(\"tensorboard-frame-48b2715309a7781f\");\n",
       "          const url = new URL(\"/\", window.location);\n",
       "          const port = 6006;\n",
       "          if (port) {\n",
       "            url.port = port;\n",
       "          }\n",
       "          frame.src = url;\n",
       "        })();\n",
       "      </script>\n",
       "    "
      ],
      "text/plain": [
       "<IPython.core.display.HTML object>"
      ]
     },
     "metadata": {},
     "output_type": "display_data"
    }
   ],
   "source": [
    "%tensorboard --logdir logs"
   ]
  },
  {
   "cell_type": "code",
   "execution_count": 16,
   "id": "parallel-robinson",
   "metadata": {},
   "outputs": [],
   "source": [
    "# mnist = tf.keras.datasets.mnist\n",
    "\n",
    "# (x_train, y_train),(x_test, y_test) = mnist.load_data()\n",
    "# x_train, x_test = x_train / 255.0, x_test / 255.0\n",
    "\n",
    "# def create_model():\n",
    "#     return tf.keras.models.Sequential([\n",
    "#     tf.keras.layers.Flatten(input_shape=(28, 28)),\n",
    "#     tf.keras.layers.Dense(512, activation='relu'),\n",
    "#     tf.keras.layers.Dropout(0.2),\n",
    "#     tf.keras.layers.Dense(10, activation='softmax')\n",
    "#   ])\n",
    "\n",
    "# model = create_model()\n",
    "# model.compile(optimizer='adam',\n",
    "#               loss='sparse_categorical_crossentropy',\n",
    "#               metrics=['accuracy'])\n",
    "\n",
    "# log_dir = \"logs/fit/\" + datetime.datetime.now().strftime(\"%Y%m%d-%H%M%S\")\n",
    "# tensorboard_callback = tf.keras.callbacks.TensorBoard(log_dir=log_dir, histogram_freq=1)\n",
    "\n",
    "# model.fit(x=x_train, \n",
    "#           y=y_train, \n",
    "#           epochs=5, \n",
    "#           validation_data=(x_test, y_test), \n",
    "#           callbacks=[tensorboard_callback])"
   ]
  }
 ],
 "metadata": {
  "kernelspec": {
   "display_name": "Python 3",
   "language": "python",
   "name": "python3"
  },
  "language_info": {
   "codemirror_mode": {
    "name": "ipython",
    "version": 3
   },
   "file_extension": ".py",
   "mimetype": "text/x-python",
   "name": "python",
   "nbconvert_exporter": "python",
   "pygments_lexer": "ipython3",
   "version": "3.7.4"
  }
 },
 "nbformat": 4,
 "nbformat_minor": 5
}
