{
 "cells": [
  {
   "cell_type": "markdown",
   "metadata": {},
   "source": [
    "# Generating Models"
   ]
  },
  {
   "cell_type": "code",
   "execution_count": 1,
   "metadata": {},
   "outputs": [],
   "source": [
    "import tensorflow as tf\n",
    "import tensorflow_datasets as tfds\n",
    "import datetime\n",
    "import numpy as np\n",
    "import matplotlib.pylab as plt\n",
    "import sklearn\n",
    "import sklearn.metrics\n",
    "import itertools\n",
    "import io"
   ]
  },
  {
   "cell_type": "markdown",
   "metadata": {},
   "source": [
    "## Load Data"
   ]
  },
  {
   "cell_type": "code",
   "execution_count": 2,
   "metadata": {},
   "outputs": [],
   "source": [
    "(ds_train, ds_test), ds_info = tfds.load(\n",
    "    'mnist',\n",
    "    split=['train', 'test'],\n",
    "    shuffle_files=True,\n",
    "    as_supervised=True,\n",
    "    with_info=True,\n",
    ")\n",
    "\n",
    "def normalize_img(image, label):\n",
    "  \"\"\"Normalizes images: `uint8` -> `float32`.\"\"\"\n",
    "  return tf.cast(image, tf.float32) / 255., label\n",
    "\n",
    "ds_train = ds_train.map(\n",
    "    normalize_img, num_parallel_calls=tf.data.AUTOTUNE)\n",
    "ds_train = ds_train.cache()\n",
    "ds_train = ds_train.shuffle(ds_info.splits['train'].num_examples)\n",
    "ds_train = ds_train.batch(128)\n",
    "ds_train = ds_train.prefetch(tf.data.AUTOTUNE)\n",
    "\n",
    "ds_test = ds_test.map(\n",
    "    normalize_img, num_parallel_calls=tf.data.AUTOTUNE)\n",
    "ds_test = ds_test.batch(128)\n",
    "ds_test = ds_test.cache()\n",
    "ds_test = ds_test.prefetch(tf.data.AUTOTUNE)"
   ]
  },
  {
   "cell_type": "markdown",
   "metadata": {},
   "source": [
    "## Tensorboard stuff"
   ]
  },
  {
   "cell_type": "code",
   "execution_count": 3,
   "metadata": {},
   "outputs": [],
   "source": [
    "def plot_confusion_matrix(cm, class_names):\n",
    "    \"\"\"\n",
    "    Returns a matplotlib figure containing the plotted confusion matrix.\n",
    "    \n",
    "    Args:\n",
    "       cm (array, shape = [n, n]): a confusion matrix of integer classes\n",
    "       class_names (array, shape = [n]): String names of the integer classes\n",
    "    \"\"\"\n",
    "    \n",
    "    figure = plt.figure(figsize=(8, 8))\n",
    "    plt.imshow(cm, interpolation='nearest', cmap=plt.cm.Blues)\n",
    "    plt.title(\"Confusion matrix\")\n",
    "    plt.colorbar()\n",
    "    tick_marks = np.arange(len(class_names))\n",
    "    plt.xticks(tick_marks, class_names, rotation=45)\n",
    "    plt.yticks(tick_marks, class_names)\n",
    "    \n",
    "    # Normalize the confusion matrix.\n",
    "    cm = np.around(cm.astype('float') / cm.sum(axis=1)[:, np.newaxis], decimals=2)\n",
    "    \n",
    "    # Use white text if squares are dark; otherwise black.\n",
    "    threshold = cm.max() / 2.\n",
    "    \n",
    "    for i, j in itertools.product(range(cm.shape[0]), range(cm.shape[1])):\n",
    "        color = \"white\" if cm[i, j] > threshold else \"black\"\n",
    "        plt.text(j, i, cm[i, j], horizontalalignment=\"center\", color=color)\n",
    "        \n",
    "    plt.tight_layout()\n",
    "    plt.ylabel('True label')\n",
    "    plt.xlabel('Predicted label')\n",
    "    return figure\n",
    "\n",
    "def plot_to_image(figure):\n",
    "    \"\"\"\n",
    "    Converts the matplotlib plot specified by 'figure' to a PNG image and\n",
    "    returns it. The supplied figure is closed and inaccessible after this call.\n",
    "    \"\"\"\n",
    "    \n",
    "    buf = io.BytesIO()\n",
    "    \n",
    "    # Use plt.savefig to save the plot to a PNG in memory.\n",
    "    plt.savefig(buf, format='png')\n",
    "    \n",
    "    # Closing the figure prevents it from being displayed directly inside\n",
    "    # the notebook.\n",
    "    plt.close(figure)\n",
    "    buf.seek(0)\n",
    "    \n",
    "    # Use tf.image.decode_png to convert the PNG buffer\n",
    "    # to a TF image. Make sure you use 4 channels.\n",
    "    image = tf.image.decode_png(buf.getvalue(), channels=4)\n",
    "    \n",
    "    # Use tf.expand_dims to add the batch dimension\n",
    "    image = tf.expand_dims(image, 0)\n",
    "    \n",
    "    return image\n",
    "\n",
    "def log_confusion_matrix(epoch, logs):\n",
    "    \n",
    "    # Use the model to predict the values from the test_images.\n",
    "    test_pred_raw = model.predict(ds_test)\n",
    "    \n",
    "    test_pred = np.argmax(test_pred_raw, axis=1)\n",
    "    \n",
    "    test_labels = y = np.concatenate([y for x, y in ds_test], axis=0)\n",
    "    \n",
    "    # Calculate the confusion matrix using sklearn.metrics\n",
    "    cm = sklearn.metrics.confusion_matrix(test_labels, test_pred)\n",
    "    \n",
    "    figure = plot_confusion_matrix(cm, class_names=[0,1,2,3,4,5,6,7,8,9])\n",
    "    cm_image = plot_to_image(figure)\n",
    "    \n",
    "    # Log the confusion matrix as an image summary.\n",
    "    with file_writer_cm.as_default():\n",
    "        tf.summary.image(\"Confusion Matrix\", cm_image, step=epoch)\n",
    "\n",
    "cm_callback = tf.keras.callbacks.LambdaCallback(on_epoch_end=log_confusion_matrix)\n",
    "log_dir = \"logs/fit/\" + datetime.datetime.now().strftime(\"%Y%m%d-%H%M%S\") + \"/model_one\"\n",
    "file_writer_cm = tf.summary.create_file_writer(log_dir + '/cm')\n",
    "tensorboard_callback = tf.keras.callbacks.TensorBoard(log_dir=log_dir, histogram_freq=1)"
   ]
  },
  {
   "cell_type": "markdown",
   "metadata": {},
   "source": [
    "## Model 1"
   ]
  },
  {
   "cell_type": "code",
   "execution_count": 5,
   "metadata": {},
   "outputs": [
    {
     "name": "stdout",
     "output_type": "stream",
     "text": [
      "Epoch 1/6\n",
      "469/469 [==============================] - 6s 12ms/step - loss: 0.3967 - sparse_categorical_accuracy: 0.8874 - val_loss: 0.2976 - val_sparse_categorical_accuracy: 0.9134\n",
      "Epoch 2/6\n",
      "469/469 [==============================] - 6s 13ms/step - loss: 0.2921 - sparse_categorical_accuracy: 0.9170 - val_loss: 0.2824 - val_sparse_categorical_accuracy: 0.9210\n",
      "Epoch 3/6\n",
      "469/469 [==============================] - 4s 9ms/step - loss: 0.2782 - sparse_categorical_accuracy: 0.9226 - val_loss: 0.2729 - val_sparse_categorical_accuracy: 0.9236\n",
      "Epoch 4/6\n",
      "469/469 [==============================] - 4s 7ms/step - loss: 0.2710 - sparse_categorical_accuracy: 0.9250 - val_loss: 0.2852 - val_sparse_categorical_accuracy: 0.9193\n",
      "Epoch 5/6\n",
      "469/469 [==============================] - 4s 9ms/step - loss: 0.2677 - sparse_categorical_accuracy: 0.9256 - val_loss: 0.2716 - val_sparse_categorical_accuracy: 0.9260\n",
      "Epoch 6/6\n",
      "469/469 [==============================] - 5s 10ms/step - loss: 0.2622 - sparse_categorical_accuracy: 0.9272 - val_loss: 0.2761 - val_sparse_categorical_accuracy: 0.9240\n",
      "INFO:tensorflow:Assets written to: models/model_1/assets\n"
     ]
    },
    {
     "name": "stderr",
     "output_type": "stream",
     "text": [
      "INFO:tensorflow:Assets written to: models/model_1/assets\n"
     ]
    }
   ],
   "source": [
    "model = tf.keras.models.Sequential([\n",
    "  tf.keras.layers.Flatten(input_shape=(28, 28)),\n",
    "  tf.keras.layers.Dense(128),\n",
    "  tf.keras.layers.Dense(10)\n",
    "])\n",
    "model.compile(\n",
    "    optimizer=tf.keras.optimizers.Adam(0.001),\n",
    "    loss=tf.keras.losses.SparseCategoricalCrossentropy(from_logits=True),\n",
    "    metrics=[tf.keras.metrics.SparseCategoricalAccuracy()],\n",
    ")\n",
    "\n",
    "model.fit(\n",
    "    ds_train,\n",
    "    epochs=6,\n",
    "    validation_data=ds_test,\n",
    "    callbacks=[tensorboard_callback, cm_callback]\n",
    ")\n",
    "\n",
    "model.save(\"models/model_1\")"
   ]
  },
  {
   "cell_type": "markdown",
   "metadata": {},
   "source": [
    "## Model 2"
   ]
  },
  {
   "cell_type": "code",
   "execution_count": 6,
   "metadata": {},
   "outputs": [
    {
     "name": "stdout",
     "output_type": "stream",
     "text": [
      "Epoch 1/6\n",
      "469/469 [==============================] - 6s 11ms/step - loss: 0.3527 - sparse_categorical_accuracy: 0.9028 - val_loss: 0.1976 - val_sparse_categorical_accuracy: 0.9414\n",
      "Epoch 2/6\n",
      "469/469 [==============================] - 4s 9ms/step - loss: 0.1670 - sparse_categorical_accuracy: 0.9523 - val_loss: 0.1416 - val_sparse_categorical_accuracy: 0.9574\n",
      "Epoch 3/6\n",
      "469/469 [==============================] - 5s 11ms/step - loss: 0.1198 - sparse_categorical_accuracy: 0.9659 - val_loss: 0.1133 - val_sparse_categorical_accuracy: 0.9662\n",
      "Epoch 4/6\n",
      "469/469 [==============================] - 4s 9ms/step - loss: 0.0936 - sparse_categorical_accuracy: 0.9728 - val_loss: 0.0976 - val_sparse_categorical_accuracy: 0.9714\n",
      "Epoch 5/6\n",
      "469/469 [==============================] - 4s 8ms/step - loss: 0.0751 - sparse_categorical_accuracy: 0.9787 - val_loss: 0.0888 - val_sparse_categorical_accuracy: 0.9750\n",
      "Epoch 6/6\n",
      "469/469 [==============================] - 5s 10ms/step - loss: 0.0613 - sparse_categorical_accuracy: 0.9819 - val_loss: 0.0826 - val_sparse_categorical_accuracy: 0.9749\n",
      "INFO:tensorflow:Assets written to: models/model_2/assets\n"
     ]
    },
    {
     "name": "stderr",
     "output_type": "stream",
     "text": [
      "INFO:tensorflow:Assets written to: models/model_2/assets\n"
     ]
    }
   ],
   "source": [
    "model = tf.keras.models.Sequential([\n",
    "  tf.keras.layers.Flatten(input_shape=(28, 28)),\n",
    "  tf.keras.layers.Dense(128, activation='relu'),\n",
    "  tf.keras.layers.Dense(10)\n",
    "])\n",
    "model.compile(\n",
    "    optimizer=tf.keras.optimizers.Adam(0.001),\n",
    "    loss=tf.keras.losses.SparseCategoricalCrossentropy(from_logits=True),\n",
    "    metrics=[tf.keras.metrics.SparseCategoricalAccuracy()],\n",
    ")\n",
    "\n",
    "model.fit(\n",
    "    ds_train,\n",
    "    epochs=6,\n",
    "    validation_data=ds_test,\n",
    "    callbacks=[tensorboard_callback, cm_callback]\n",
    ")\n",
    "\n",
    "model.save(\"models/model_2\")"
   ]
  },
  {
   "cell_type": "markdown",
   "metadata": {},
   "source": [
    "## Model 3"
   ]
  },
  {
   "cell_type": "code",
   "execution_count": 7,
   "metadata": {},
   "outputs": [
    {
     "name": "stdout",
     "output_type": "stream",
     "text": [
      "Epoch 1/6\n",
      "469/469 [==============================] - 7s 13ms/step - loss: 0.5922 - sparse_categorical_accuracy: 0.8602 - val_loss: 0.3077 - val_sparse_categorical_accuracy: 0.9161\n",
      "Epoch 2/6\n",
      "469/469 [==============================] - 4s 9ms/step - loss: 0.2775 - sparse_categorical_accuracy: 0.9223 - val_loss: 0.2365 - val_sparse_categorical_accuracy: 0.9321\n",
      "Epoch 3/6\n",
      "469/469 [==============================] - 4s 9ms/step - loss: 0.2220 - sparse_categorical_accuracy: 0.9368 - val_loss: 0.1984 - val_sparse_categorical_accuracy: 0.9424\n",
      "Epoch 4/6\n",
      "469/469 [==============================] - 4s 9ms/step - loss: 0.1851 - sparse_categorical_accuracy: 0.9471 - val_loss: 0.1701 - val_sparse_categorical_accuracy: 0.9505\n",
      "Epoch 5/6\n",
      "469/469 [==============================] - 4s 9ms/step - loss: 0.1586 - sparse_categorical_accuracy: 0.9546 - val_loss: 0.1505 - val_sparse_categorical_accuracy: 0.9560\n",
      "Epoch 6/6\n",
      "469/469 [==============================] - 5s 10ms/step - loss: 0.1374 - sparse_categorical_accuracy: 0.9617 - val_loss: 0.1367 - val_sparse_categorical_accuracy: 0.9599\n",
      "INFO:tensorflow:Assets written to: models/model_3/assets\n"
     ]
    },
    {
     "name": "stderr",
     "output_type": "stream",
     "text": [
      "INFO:tensorflow:Assets written to: models/model_3/assets\n"
     ]
    }
   ],
   "source": [
    "model = tf.keras.models.Sequential([\n",
    "  tf.keras.layers.Flatten(input_shape=(28, 28)),\n",
    "  tf.keras.layers.Dense(128, activation='sigmoid'),\n",
    "  tf.keras.layers.Dense(10)\n",
    "])\n",
    "model.compile(\n",
    "    optimizer=tf.keras.optimizers.Adam(0.001),\n",
    "    loss=tf.keras.losses.SparseCategoricalCrossentropy(from_logits=True),\n",
    "    metrics=[tf.keras.metrics.SparseCategoricalAccuracy()],\n",
    ")\n",
    "\n",
    "model.fit(\n",
    "    ds_train,\n",
    "    epochs=6,\n",
    "    validation_data=ds_test,\n",
    "    callbacks=[tensorboard_callback, cm_callback]\n",
    ")\n",
    "\n",
    "model.save(\"models/model_3\")"
   ]
  },
  {
   "cell_type": "markdown",
   "metadata": {},
   "source": [
    "## Model 4"
   ]
  },
  {
   "cell_type": "code",
   "execution_count": 8,
   "metadata": {},
   "outputs": [
    {
     "name": "stdout",
     "output_type": "stream",
     "text": [
      "Epoch 1/6\n",
      "469/469 [==============================] - 6s 10ms/step - loss: 0.3701 - sparse_categorical_accuracy: 0.8955 - val_loss: 0.2233 - val_sparse_categorical_accuracy: 0.9356\n",
      "Epoch 2/6\n",
      "469/469 [==============================] - 5s 9ms/step - loss: 0.1990 - sparse_categorical_accuracy: 0.9436 - val_loss: 0.1698 - val_sparse_categorical_accuracy: 0.9496\n",
      "Epoch 3/6\n",
      "469/469 [==============================] - 4s 9ms/step - loss: 0.1452 - sparse_categorical_accuracy: 0.9585 - val_loss: 0.1333 - val_sparse_categorical_accuracy: 0.9612\n",
      "Epoch 4/6\n",
      "469/469 [==============================] - 4s 9ms/step - loss: 0.1142 - sparse_categorical_accuracy: 0.9669 - val_loss: 0.1113 - val_sparse_categorical_accuracy: 0.9660\n",
      "Epoch 5/6\n",
      "469/469 [==============================] - 4s 9ms/step - loss: 0.0913 - sparse_categorical_accuracy: 0.9746 - val_loss: 0.0988 - val_sparse_categorical_accuracy: 0.9703\n",
      "Epoch 6/6\n",
      "469/469 [==============================] - 4s 9ms/step - loss: 0.0750 - sparse_categorical_accuracy: 0.9794 - val_loss: 0.0900 - val_sparse_categorical_accuracy: 0.9719\n",
      "INFO:tensorflow:Assets written to: models/model_4/assets\n"
     ]
    },
    {
     "name": "stderr",
     "output_type": "stream",
     "text": [
      "INFO:tensorflow:Assets written to: models/model_4/assets\n"
     ]
    }
   ],
   "source": [
    "model = tf.keras.models.Sequential([\n",
    "  tf.keras.layers.Flatten(input_shape=(28, 28)),\n",
    "  tf.keras.layers.Dense(128, activation=\"tanh\"),\n",
    "  tf.keras.layers.Dense(10)\n",
    "])\n",
    "model.compile(\n",
    "    optimizer=tf.keras.optimizers.Adam(0.001),\n",
    "    loss=tf.keras.losses.SparseCategoricalCrossentropy(from_logits=True),\n",
    "    metrics=[tf.keras.metrics.SparseCategoricalAccuracy()],\n",
    ")\n",
    "\n",
    "model.fit(\n",
    "    ds_train,\n",
    "    epochs=6,\n",
    "    validation_data=ds_test,\n",
    "    callbacks=[tensorboard_callback, cm_callback]\n",
    ")\n",
    "\n",
    "model.save(\"models/model_4\")"
   ]
  },
  {
   "cell_type": "markdown",
   "metadata": {},
   "source": [
    "## Model 5"
   ]
  },
  {
   "cell_type": "code",
   "execution_count": 13,
   "metadata": {},
   "outputs": [
    {
     "name": "stdout",
     "output_type": "stream",
     "text": [
      "Epoch 1/6\n",
      "469/469 [==============================] - 7s 12ms/step - loss: 0.3112 - sparse_categorical_accuracy: 0.9122 - val_loss: 0.1504 - val_sparse_categorical_accuracy: 0.9541\n",
      "Epoch 2/6\n",
      "469/469 [==============================] - 4s 9ms/step - loss: 0.1252 - sparse_categorical_accuracy: 0.9625 - val_loss: 0.1112 - val_sparse_categorical_accuracy: 0.9657\n",
      "Epoch 3/6\n",
      "469/469 [==============================] - 4s 9ms/step - loss: 0.0854 - sparse_categorical_accuracy: 0.9742 - val_loss: 0.0916 - val_sparse_categorical_accuracy: 0.9720\n",
      "Epoch 4/6\n",
      "469/469 [==============================] - 5s 10ms/step - loss: 0.0636 - sparse_categorical_accuracy: 0.9804 - val_loss: 0.0763 - val_sparse_categorical_accuracy: 0.9759\n",
      "Epoch 5/6\n",
      "469/469 [==============================] - 4s 9ms/step - loss: 0.0487 - sparse_categorical_accuracy: 0.9854 - val_loss: 0.0769 - val_sparse_categorical_accuracy: 0.9747\n",
      "Epoch 6/6\n",
      "469/469 [==============================] - 4s 9ms/step - loss: 0.0385 - sparse_categorical_accuracy: 0.9885 - val_loss: 0.0690 - val_sparse_categorical_accuracy: 0.9782\n",
      "INFO:tensorflow:Assets written to: models/model_5/assets\n"
     ]
    },
    {
     "name": "stderr",
     "output_type": "stream",
     "text": [
      "INFO:tensorflow:Assets written to: models/model_5/assets\n"
     ]
    }
   ],
   "source": [
    "model = tf.keras.models.Sequential([\n",
    "  tf.keras.layers.Flatten(input_shape=(28, 28)),\n",
    "  tf.keras.layers.Dense(128, activation=\"relu\"),\n",
    "  tf.keras.layers.Dense(64, activation=\"tanh\"),\n",
    "  tf.keras.layers.Dense(10)\n",
    "])\n",
    "model.compile(\n",
    "    optimizer=tf.keras.optimizers.Adam(0.001),\n",
    "    loss=tf.keras.losses.SparseCategoricalCrossentropy(from_logits=True),\n",
    "    metrics=[tf.keras.metrics.SparseCategoricalAccuracy()],\n",
    ")\n",
    "\n",
    "model.fit(\n",
    "    ds_train,\n",
    "    epochs=6,\n",
    "    validation_data=ds_test,\n",
    "    callbacks=[tensorboard_callback, cm_callback]\n",
    ")\n",
    "\n",
    "model.save(\"models/model_5\")"
   ]
  }
 ],
 "metadata": {
  "interpreter": {
   "hash": "40d3a090f54c6569ab1632332b64b2c03c39dcf918b08424e98f38b5ae0af88f"
  },
  "kernelspec": {
   "display_name": "Python 3",
   "language": "python",
   "name": "python3"
  },
  "language_info": {
   "codemirror_mode": {
    "name": "ipython",
    "version": 3
   },
   "file_extension": ".py",
   "mimetype": "text/x-python",
   "name": "python",
   "nbconvert_exporter": "python",
   "pygments_lexer": "ipython3",
   "version": "3.7.4"
  }
 },
 "nbformat": 4,
 "nbformat_minor": 4
}
