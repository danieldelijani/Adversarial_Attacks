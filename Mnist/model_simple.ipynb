{
 "cells": [
  {
   "cell_type": "markdown",
   "id": "supposed-richardson",
   "metadata": {},
   "source": [
    "# Code for launching White-box evasion attack on NN for the Mnist Dataset"
   ]
  },
  {
   "cell_type": "markdown",
   "id": "outer-artwork",
   "metadata": {},
   "source": [
    "## Generating the model"
   ]
  },
  {
   "cell_type": "markdown",
   "id": "facial-foster",
   "metadata": {},
   "source": [
    "### Imports"
   ]
  },
  {
   "cell_type": "code",
   "execution_count": 1,
   "id": "infrared-cherry",
   "metadata": {},
   "outputs": [],
   "source": [
    "import tensorflow as tf\n",
    "import tensorflow_datasets as tfds\n",
    "import datetime\n",
    "import numpy as np\n",
    "import seaborn as sns\n",
    "import matplotlib.pylab as plt\n",
    "from collections import defaultdict\n",
    "import scipy as sp\n",
    "import sklearn\n",
    "import sklearn.metrics\n",
    "import itertools\n",
    "import io"
   ]
  },
  {
   "cell_type": "code",
   "execution_count": 2,
   "id": "annual-curtis",
   "metadata": {},
   "outputs": [],
   "source": [
    "%load_ext tensorboard"
   ]
  },
  {
   "cell_type": "markdown",
   "id": "touched-bottom",
   "metadata": {},
   "source": [
    "### 1. Create input pipeline"
   ]
  },
  {
   "cell_type": "markdown",
   "id": "rental-candle",
   "metadata": {},
   "source": [
    "#### Load dataset"
   ]
  },
  {
   "cell_type": "code",
   "execution_count": 3,
   "id": "detailed-preservation",
   "metadata": {},
   "outputs": [],
   "source": [
    "(ds_train, ds_test), ds_info = tfds.load(\n",
    "    'mnist',\n",
    "    split=['train', 'test'],\n",
    "    shuffle_files=True,\n",
    "    as_supervised=True,\n",
    "    with_info=True,\n",
    ")"
   ]
  },
  {
   "cell_type": "code",
   "execution_count": 4,
   "id": "pediatric-remark",
   "metadata": {},
   "outputs": [
    {
     "data": {
      "text/plain": [
       "tfds.core.DatasetInfo(\n",
       "    name='mnist',\n",
       "    full_name='mnist/3.0.1',\n",
       "    description=\"\"\"\n",
       "    The MNIST database of handwritten digits.\n",
       "    \"\"\",\n",
       "    homepage='http://yann.lecun.com/exdb/mnist/',\n",
       "    data_path='/Users/danieldelijani/tensorflow_datasets/mnist/3.0.1',\n",
       "    download_size=11.06 MiB,\n",
       "    dataset_size=21.00 MiB,\n",
       "    features=FeaturesDict({\n",
       "        'image': Image(shape=(28, 28, 1), dtype=tf.uint8),\n",
       "        'label': ClassLabel(shape=(), dtype=tf.int64, num_classes=10),\n",
       "    }),\n",
       "    supervised_keys=('image', 'label'),\n",
       "    disable_shuffling=False,\n",
       "    splits={\n",
       "        'test': <SplitInfo num_examples=10000, num_shards=1>,\n",
       "        'train': <SplitInfo num_examples=60000, num_shards=1>,\n",
       "    },\n",
       "    citation=\"\"\"@article{lecun2010mnist,\n",
       "      title={MNIST handwritten digit database},\n",
       "      author={LeCun, Yann and Cortes, Corinna and Burges, CJ},\n",
       "      journal={ATT Labs [Online]. Available: http://yann.lecun.com/exdb/mnist},\n",
       "      volume={2},\n",
       "      year={2010}\n",
       "    }\"\"\",\n",
       ")"
      ]
     },
     "execution_count": 4,
     "metadata": {},
     "output_type": "execute_result"
    }
   ],
   "source": [
    "ds_info"
   ]
  },
  {
   "cell_type": "markdown",
   "id": "based-policy",
   "metadata": {},
   "source": [
    "#### Build a training pipeline"
   ]
  },
  {
   "cell_type": "code",
   "execution_count": 5,
   "id": "amended-halifax",
   "metadata": {},
   "outputs": [],
   "source": [
    "def normalize_img(image, label):\n",
    "  \"\"\"Normalizes images: `uint8` -> `float32`.\"\"\"\n",
    "  return tf.cast(image, tf.float32) / 255., label\n",
    "\n",
    "ds_train = ds_train.map(\n",
    "    normalize_img, num_parallel_calls=tf.data.AUTOTUNE)\n",
    "ds_train = ds_train.cache()\n",
    "ds_train = ds_train.shuffle(ds_info.splits['train'].num_examples)\n",
    "ds_train = ds_train.batch(128)\n",
    "ds_train = ds_train.prefetch(tf.data.AUTOTUNE)"
   ]
  },
  {
   "cell_type": "markdown",
   "id": "dirty-conclusion",
   "metadata": {},
   "source": [
    "#### Build an evaluation pipeline"
   ]
  },
  {
   "cell_type": "code",
   "execution_count": 6,
   "id": "domestic-endorsement",
   "metadata": {},
   "outputs": [],
   "source": [
    "ds_test = ds_test.map(\n",
    "    normalize_img, num_parallel_calls=tf.data.AUTOTUNE)\n",
    "ds_test = ds_test.batch(128)\n",
    "ds_test = ds_test.cache()\n",
    "ds_test = ds_test.prefetch(tf.data.AUTOTUNE)"
   ]
  },
  {
   "cell_type": "markdown",
   "id": "residential-myrtle",
   "metadata": {},
   "source": [
    "### 2. Create and train the model"
   ]
  },
  {
   "cell_type": "markdown",
   "id": "difficult-bishop",
   "metadata": {},
   "source": [
    "Code for confusion martrix"
   ]
  },
  {
   "cell_type": "code",
   "execution_count": 7,
   "id": "twelve-receptor",
   "metadata": {},
   "outputs": [],
   "source": [
    "def plot_confusion_matrix(cm, class_names):\n",
    "    \"\"\"\n",
    "    Returns a matplotlib figure containing the plotted confusion matrix.\n",
    "    \n",
    "    Args:\n",
    "       cm (array, shape = [n, n]): a confusion matrix of integer classes\n",
    "       class_names (array, shape = [n]): String names of the integer classes\n",
    "    \"\"\"\n",
    "    \n",
    "    figure = plt.figure(figsize=(8, 8))\n",
    "    plt.imshow(cm, interpolation='nearest', cmap=plt.cm.Blues)\n",
    "    plt.title(\"Confusion matrix\")\n",
    "    plt.colorbar()\n",
    "    tick_marks = np.arange(len(class_names))\n",
    "    plt.xticks(tick_marks, class_names, rotation=45)\n",
    "    plt.yticks(tick_marks, class_names)\n",
    "    \n",
    "    # Normalize the confusion matrix.\n",
    "    cm = np.around(cm.astype('float') / cm.sum(axis=1)[:, np.newaxis], decimals=2)\n",
    "    \n",
    "    # Use white text if squares are dark; otherwise black.\n",
    "    threshold = cm.max() / 2.\n",
    "    \n",
    "    for i, j in itertools.product(range(cm.shape[0]), range(cm.shape[1])):\n",
    "        color = \"white\" if cm[i, j] > threshold else \"black\"\n",
    "        plt.text(j, i, cm[i, j], horizontalalignment=\"center\", color=color)\n",
    "        \n",
    "    plt.tight_layout()\n",
    "    plt.ylabel('True label')\n",
    "    plt.xlabel('Predicted label')\n",
    "    return figure\n",
    "\n",
    "def plot_to_image(figure):\n",
    "    \"\"\"\n",
    "    Converts the matplotlib plot specified by 'figure' to a PNG image and\n",
    "    returns it. The supplied figure is closed and inaccessible after this call.\n",
    "    \"\"\"\n",
    "    \n",
    "    buf = io.BytesIO()\n",
    "    \n",
    "    # Use plt.savefig to save the plot to a PNG in memory.\n",
    "    plt.savefig(buf, format='png')\n",
    "    \n",
    "    # Closing the figure prevents it from being displayed directly inside\n",
    "    # the notebook.\n",
    "    plt.close(figure)\n",
    "    buf.seek(0)\n",
    "    \n",
    "    # Use tf.image.decode_png to convert the PNG buffer\n",
    "    # to a TF image. Make sure you use 4 channels.\n",
    "    image = tf.image.decode_png(buf.getvalue(), channels=4)\n",
    "    \n",
    "    # Use tf.expand_dims to add the batch dimension\n",
    "    image = tf.expand_dims(image, 0)\n",
    "    \n",
    "    return image\n",
    "\n",
    "def log_confusion_matrix(epoch, logs):\n",
    "    \n",
    "    # Use the model to predict the values from the test_images.\n",
    "    test_pred_raw = model.predict(ds_test)\n",
    "    \n",
    "    test_pred = np.argmax(test_pred_raw, axis=1)\n",
    "    \n",
    "    test_labels = y = np.concatenate([y for x, y in ds_test], axis=0)\n",
    "    \n",
    "    # Calculate the confusion matrix using sklearn.metrics\n",
    "    cm = sklearn.metrics.confusion_matrix(test_labels, test_pred)\n",
    "    \n",
    "    figure = plot_confusion_matrix(cm, class_names=[0,1,2,3,4,5,6,7,8,9])\n",
    "    cm_image = plot_to_image(figure)\n",
    "    \n",
    "    # Log the confusion matrix as an image summary.\n",
    "    with file_writer_cm.as_default():\n",
    "        tf.summary.image(\"Confusion Matrix\", cm_image, step=epoch)"
   ]
  },
  {
   "cell_type": "markdown",
   "id": "funded-petroleum",
   "metadata": {},
   "source": [
    "Code for model"
   ]
  },
  {
   "cell_type": "code",
   "execution_count": 8,
   "id": "ideal-singer",
   "metadata": {},
   "outputs": [
    {
     "name": "stdout",
     "output_type": "stream",
     "text": [
      "Epoch 1/6\n",
      "469/469 [==============================] - 7s 8ms/step - loss: 0.3953 - sparse_categorical_accuracy: 0.8882 - val_loss: 0.2849 - val_sparse_categorical_accuracy: 0.9208\n",
      "Epoch 2/6\n",
      "469/469 [==============================] - 3s 7ms/step - loss: 0.2915 - sparse_categorical_accuracy: 0.9179 - val_loss: 0.2831 - val_sparse_categorical_accuracy: 0.9189\n",
      "Epoch 3/6\n",
      "469/469 [==============================] - 3s 6ms/step - loss: 0.2778 - sparse_categorical_accuracy: 0.9229 - val_loss: 0.2805 - val_sparse_categorical_accuracy: 0.9211\n",
      "Epoch 4/6\n",
      "469/469 [==============================] - 4s 9ms/step - loss: 0.2708 - sparse_categorical_accuracy: 0.9245 - val_loss: 0.2845 - val_sparse_categorical_accuracy: 0.9222\n",
      "Epoch 5/6\n",
      "469/469 [==============================] - 2s 5ms/step - loss: 0.2672 - sparse_categorical_accuracy: 0.9263 - val_loss: 0.2774 - val_sparse_categorical_accuracy: 0.9238\n",
      "Epoch 6/6\n",
      "469/469 [==============================] - 3s 5ms/step - loss: 0.2630 - sparse_categorical_accuracy: 0.9270 - val_loss: 0.2776 - val_sparse_categorical_accuracy: 0.9244\n"
     ]
    },
    {
     "data": {
      "text/plain": [
       "<keras.callbacks.History at 0x7f8d52a29650>"
      ]
     },
     "execution_count": 8,
     "metadata": {},
     "output_type": "execute_result"
    }
   ],
   "source": [
    "cm_callback = tf.keras.callbacks.LambdaCallback(on_epoch_end=log_confusion_matrix)\n",
    "\n",
    "model = tf.keras.models.Sequential([\n",
    "  tf.keras.layers.Flatten(input_shape=(28, 28)),\n",
    "  tf.keras.layers.Dense(128),\n",
    "  tf.keras.layers.Dense(10)\n",
    "])\n",
    "model.compile(\n",
    "    optimizer=tf.keras.optimizers.Adam(0.001),\n",
    "    loss=tf.keras.losses.SparseCategoricalCrossentropy(from_logits=True),\n",
    "    metrics=[tf.keras.metrics.SparseCategoricalAccuracy()],\n",
    ")\n",
    "\n",
    "log_dir = \"logs/fit/\" + datetime.datetime.now().strftime(\"%Y%m%d-%H%M%S\")\n",
    "file_writer_cm = tf.summary.create_file_writer(log_dir + '/cm')\n",
    "tensorboard_callback = tf.keras.callbacks.TensorBoard(log_dir=log_dir, histogram_freq=1)\n",
    "\n",
    "model.fit(\n",
    "    ds_train,\n",
    "    epochs=6,\n",
    "    validation_data=ds_test,\n",
    "    callbacks=[tensorboard_callback, cm_callback]\n",
    ")"
   ]
  },
  {
   "cell_type": "code",
   "execution_count": 9,
   "id": "institutional-probability",
   "metadata": {},
   "outputs": [
    {
     "name": "stdout",
     "output_type": "stream",
     "text": [
      "Model: \"sequential\"\n",
      "_________________________________________________________________\n",
      " Layer (type)                Output Shape              Param #   \n",
      "=================================================================\n",
      " flatten (Flatten)           (None, 784)               0         \n",
      "                                                                 \n",
      " dense (Dense)               (None, 128)               100480    \n",
      "                                                                 \n",
      " dense_1 (Dense)             (None, 10)                1290      \n",
      "                                                                 \n",
      "=================================================================\n",
      "Total params: 101,770\n",
      "Trainable params: 101,770\n",
      "Non-trainable params: 0\n",
      "_________________________________________________________________\n"
     ]
    }
   ],
   "source": [
    "model.summary()"
   ]
  },
  {
   "cell_type": "markdown",
   "id": "middle-label",
   "metadata": {},
   "source": [
    "## Exploring the model"
   ]
  },
  {
   "cell_type": "markdown",
   "id": "female-discovery",
   "metadata": {},
   "source": [
    "### What input nodes have the most impact?"
   ]
  },
  {
   "cell_type": "code",
   "execution_count": 10,
   "id": "virgin-observation",
   "metadata": {},
   "outputs": [
    {
     "name": "stdout",
     "output_type": "stream",
     "text": [
      "dense <keras.layers.core.dense.Dense object at 0x7f8d52a16a10>\n",
      "weights: <tf.Variable 'dense/kernel:0' shape=(784, 128) dtype=float32, numpy=\n",
      "array([[-0.03643361, -0.00118422,  0.05179729, ...,  0.03303382,\n",
      "        -0.05474085, -0.03197149],\n",
      "       [ 0.03415231, -0.06830564, -0.07543708, ..., -0.05387271,\n",
      "        -0.042684  , -0.03770328],\n",
      "       [ 0.00014482,  0.07858264,  0.04454938, ..., -0.06089897,\n",
      "        -0.03333182, -0.06000566],\n",
      "       ...,\n",
      "       [-0.02759169, -0.06725439,  0.04561331, ...,  0.00827859,\n",
      "         0.03713824,  0.03694418],\n",
      "       [ 0.0468073 ,  0.04517556,  0.03052187, ..., -0.01103455,\n",
      "         0.00916744,  0.01251812],\n",
      "       [ 0.05585433, -0.01610731, -0.03376357, ..., -0.01962977,\n",
      "         0.00855052,  0.0603955 ]], dtype=float32)>\n",
      "bias: <tf.Variable 'dense/bias:0' shape=(128,) dtype=float32, numpy=\n",
      "array([-1.86419375e-02,  4.03760821e-02,  1.88235104e-01, -1.54628471e-01,\n",
      "        2.16733560e-01, -6.31393045e-02,  1.89716697e-01, -1.88691542e-01,\n",
      "       -1.80189535e-01,  1.10025205e-01,  6.36669993e-02, -2.66515855e-02,\n",
      "       -5.93917491e-03,  3.93625312e-02,  1.29563257e-01,  1.09509826e-01,\n",
      "       -1.86968803e-01,  4.09349948e-02,  1.30551904e-01,  1.12566032e-01,\n",
      "        1.68331429e-01, -1.49738314e-02, -2.04121277e-01, -9.31457058e-02,\n",
      "       -3.24563444e-01, -7.17385635e-02, -1.18643187e-01,  3.03844381e-02,\n",
      "       -5.20180427e-02,  3.03685963e-01,  1.60297722e-01,  1.97444916e-01,\n",
      "        4.88095805e-02,  1.06466763e-01,  4.41597961e-02, -2.62419939e-01,\n",
      "       -2.01818958e-01, -7.37317279e-02,  2.80387346e-02, -1.06332116e-01,\n",
      "       -5.57324961e-02, -5.44690192e-02,  1.75663039e-01,  2.11571425e-01,\n",
      "        3.77252586e-02,  2.23949682e-02, -2.27956641e-02,  1.92123041e-01,\n",
      "        2.46234059e-01, -1.38459310e-01,  4.94126529e-02, -2.14816481e-01,\n",
      "       -2.08234385e-01,  9.20022875e-02, -4.24431462e-04,  1.93603441e-01,\n",
      "       -9.36620012e-02, -4.24657986e-02, -3.03412955e-02,  1.14350289e-01,\n",
      "       -1.19892601e-02, -1.50072515e-01,  2.13858530e-01,  7.73824304e-02,\n",
      "       -2.84589343e-02, -1.43136352e-01, -1.41130090e-02, -5.97614422e-02,\n",
      "       -2.82295756e-02, -1.95768207e-01,  7.89947957e-02,  1.04456536e-01,\n",
      "       -4.76390421e-02, -1.61047146e-01,  4.55489270e-02, -1.14504650e-01,\n",
      "       -1.88838735e-01, -1.44323945e-01, -3.15992355e-01, -2.90020078e-01,\n",
      "        3.05736929e-01, -6.35921285e-02,  2.06934631e-01,  1.68468609e-01,\n",
      "        2.85208516e-05, -8.95613283e-02,  8.62171426e-02, -1.69641837e-01,\n",
      "        1.44697055e-01, -2.09688768e-01, -1.57596424e-01,  2.28203505e-01,\n",
      "       -9.16327164e-02, -3.07115406e-01,  2.61503756e-01,  2.92932559e-02,\n",
      "       -1.12152442e-01, -6.34820908e-02, -5.38085699e-02, -1.41055599e-01,\n",
      "       -2.06779599e-01, -2.08282664e-01, -1.17851287e-01, -2.87762254e-01,\n",
      "        2.10491255e-01, -1.68545365e-01,  5.47119752e-02, -9.44670886e-02,\n",
      "       -3.48819746e-03,  1.06059380e-01,  2.39628449e-01,  2.08720058e-01,\n",
      "        4.67068627e-02, -1.24983666e-02,  2.14041427e-01,  2.02561542e-01,\n",
      "        1.94203392e-01, -1.18265457e-01,  8.78315642e-02, -2.00817406e-01,\n",
      "       -1.02932207e-01, -1.49459317e-01, -6.58297390e-02, -3.42233367e-02,\n",
      "        1.64412692e-01, -1.93535745e-01,  4.95085940e-02, -1.01532690e-01],\n",
      "      dtype=float32)>\n"
     ]
    }
   ],
   "source": [
    "i = 1\n",
    "layer = model.layers[i]\n",
    "weights = model.layers[i].weights[0]\n",
    "bias = model.layers[i].weights[1]\n",
    "print(layer.name, layer)\n",
    "print('weights:', weights)\n",
    "print('bias:', bias)"
   ]
  },
  {
   "cell_type": "code",
   "execution_count": 11,
   "id": "documentary-preserve",
   "metadata": {},
   "outputs": [
    {
     "data": {
      "text/plain": [
       "(784,)"
      ]
     },
     "execution_count": 11,
     "metadata": {},
     "output_type": "execute_result"
    }
   ],
   "source": [
    "sum_of_weights = weights.numpy().sum(axis=1)\n",
    "sum_of_weights.shape"
   ]
  },
  {
   "cell_type": "code",
   "execution_count": 12,
   "id": "iraqi-induction",
   "metadata": {},
   "outputs": [],
   "source": [
    "reshaped_weights = np.reshape(sum_of_weights, (28, 28))"
   ]
  },
  {
   "cell_type": "code",
   "execution_count": 13,
   "id": "sought-account",
   "metadata": {},
   "outputs": [
    {
     "data": {
      "image/png": "[encoded data removed]",
      "text/plain": [
       "<Figure size 432x288 with 2 Axes>"
      ]
     },
     "metadata": {
      "needs_background": "light"
     },
     "output_type": "display_data"
    }
   ],
   "source": [
    "ax = sns.heatmap(reshaped_weights, linewidth=.5, cmap='vlag',vmin = -4, vmax=4)\n",
    "plt.show()"
   ]
  },
  {
   "cell_type": "code",
   "execution_count": 14,
   "id": "martial-elimination",
   "metadata": {},
   "outputs": [
    {
     "data": {
      "image/png": "[encoded data removed]",
      "text/plain": [
       "<Figure size 432x288 with 2 Axes>"
      ]
     },
     "metadata": {
      "needs_background": "light"
     },
     "output_type": "display_data"
    }
   ],
   "source": [
    "ax = sns.heatmap(reshaped_weights, linewidth=.5, cmap=sns.diverging_palette(0, 0, l=0, as_cmap=True),vmin = -4, vmax=4)\n",
    "plt.show()"
   ]
  },
  {
   "cell_type": "code",
   "execution_count": 15,
   "id": "confused-theater",
   "metadata": {},
   "outputs": [
    {
     "data": {
      "text/plain": [
       "<tf.Variable 'dense/bias:0' shape=(128,) dtype=float32, numpy=\n",
       "array([-1.86419375e-02,  4.03760821e-02,  1.88235104e-01, -1.54628471e-01,\n",
       "        2.16733560e-01, -6.31393045e-02,  1.89716697e-01, -1.88691542e-01,\n",
       "       -1.80189535e-01,  1.10025205e-01,  6.36669993e-02, -2.66515855e-02,\n",
       "       -5.93917491e-03,  3.93625312e-02,  1.29563257e-01,  1.09509826e-01,\n",
       "       -1.86968803e-01,  4.09349948e-02,  1.30551904e-01,  1.12566032e-01,\n",
       "        1.68331429e-01, -1.49738314e-02, -2.04121277e-01, -9.31457058e-02,\n",
       "       -3.24563444e-01, -7.17385635e-02, -1.18643187e-01,  3.03844381e-02,\n",
       "       -5.20180427e-02,  3.03685963e-01,  1.60297722e-01,  1.97444916e-01,\n",
       "        4.88095805e-02,  1.06466763e-01,  4.41597961e-02, -2.62419939e-01,\n",
       "       -2.01818958e-01, -7.37317279e-02,  2.80387346e-02, -1.06332116e-01,\n",
       "       -5.57324961e-02, -5.44690192e-02,  1.75663039e-01,  2.11571425e-01,\n",
       "        3.77252586e-02,  2.23949682e-02, -2.27956641e-02,  1.92123041e-01,\n",
       "        2.46234059e-01, -1.38459310e-01,  4.94126529e-02, -2.14816481e-01,\n",
       "       -2.08234385e-01,  9.20022875e-02, -4.24431462e-04,  1.93603441e-01,\n",
       "       -9.36620012e-02, -4.24657986e-02, -3.03412955e-02,  1.14350289e-01,\n",
       "       -1.19892601e-02, -1.50072515e-01,  2.13858530e-01,  7.73824304e-02,\n",
       "       -2.84589343e-02, -1.43136352e-01, -1.41130090e-02, -5.97614422e-02,\n",
       "       -2.82295756e-02, -1.95768207e-01,  7.89947957e-02,  1.04456536e-01,\n",
       "       -4.76390421e-02, -1.61047146e-01,  4.55489270e-02, -1.14504650e-01,\n",
       "       -1.88838735e-01, -1.44323945e-01, -3.15992355e-01, -2.90020078e-01,\n",
       "        3.05736929e-01, -6.35921285e-02,  2.06934631e-01,  1.68468609e-01,\n",
       "        2.85208516e-05, -8.95613283e-02,  8.62171426e-02, -1.69641837e-01,\n",
       "        1.44697055e-01, -2.09688768e-01, -1.57596424e-01,  2.28203505e-01,\n",
       "       -9.16327164e-02, -3.07115406e-01,  2.61503756e-01,  2.92932559e-02,\n",
       "       -1.12152442e-01, -6.34820908e-02, -5.38085699e-02, -1.41055599e-01,\n",
       "       -2.06779599e-01, -2.08282664e-01, -1.17851287e-01, -2.87762254e-01,\n",
       "        2.10491255e-01, -1.68545365e-01,  5.47119752e-02, -9.44670886e-02,\n",
       "       -3.48819746e-03,  1.06059380e-01,  2.39628449e-01,  2.08720058e-01,\n",
       "        4.67068627e-02, -1.24983666e-02,  2.14041427e-01,  2.02561542e-01,\n",
       "        1.94203392e-01, -1.18265457e-01,  8.78315642e-02, -2.00817406e-01,\n",
       "       -1.02932207e-01, -1.49459317e-01, -6.58297390e-02, -3.42233367e-02,\n",
       "        1.64412692e-01, -1.93535745e-01,  4.95085940e-02, -1.01532690e-01],\n",
       "      dtype=float32)>"
      ]
     },
     "execution_count": 15,
     "metadata": {},
     "output_type": "execute_result"
    }
   ],
   "source": [
    "bias"
   ]
  },
  {
   "cell_type": "markdown",
   "id": "dietary-honey",
   "metadata": {},
   "source": [
    "### Tensorboard"
   ]
  },
  {
   "cell_type": "code",
   "execution_count": 16,
   "id": "rocky-vacation",
   "metadata": {},
   "outputs": [
    {
     "data": {
      "text/plain": [
       "Reusing TensorBoard on port 6006 (pid 2553), started 0:32:09 ago. (Use '!kill 2553' to kill it.)"
      ]
     },
     "metadata": {},
     "output_type": "display_data"
    },
    {
     "data": {
      "text/html": [
       "\n",
       "      <iframe id=\"tensorboard-frame-c00d4b913a0eded1\" width=\"100%\" height=\"800\" frameborder=\"0\">\n",
       "      </iframe>\n",
       "      <script>\n",
       "        (function() {\n",
       "          const frame = document.getElementById(\"tensorboard-frame-c00d4b913a0eded1\");\n",
       "          const url = new URL(\"/\", window.location);\n",
       "          const port = 6006;\n",
       "          if (port) {\n",
       "            url.port = port;\n",
       "          }\n",
       "          frame.src = url;\n",
       "        })();\n",
       "      </script>\n",
       "    "
      ],
      "text/plain": [
       "<IPython.core.display.HTML object>"
      ]
     },
     "metadata": {},
     "output_type": "display_data"
    }
   ],
   "source": [
    "%tensorboard --logdir logs"
   ]
  }
 ],
 "metadata": {
  "kernelspec": {
   "display_name": "Python 3",
   "language": "python",
   "name": "python3"
  },
  "language_info": {
   "codemirror_mode": {
    "name": "ipython",
    "version": 3
   },
   "file_extension": ".py",
   "mimetype": "text/x-python",
   "name": "python",
   "nbconvert_exporter": "python",
   "pygments_lexer": "ipython3",
   "version": "3.7.4"
  }
 },
 "nbformat": 4,
 "nbformat_minor": 5
}
