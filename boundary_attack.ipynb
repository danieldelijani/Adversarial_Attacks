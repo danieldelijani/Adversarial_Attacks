{
 "cells": [
  {
   "cell_type": "code",
   "execution_count": 81,
   "metadata": {},
   "outputs": [],
   "source": [
    "import torch \n",
    "from torch import nn, optim\n",
    "import torchvision \n",
    "from torchvision import datasets, transforms\n",
    "from torch.utils.data import DataLoader\n",
    "import matplotlib.pyplot as plt \n",
    "import math \n",
    "import numpy as np\n",
    "from PIL import Image\n",
    "import cv2"
   ]
  },
  {
   "cell_type": "code",
   "execution_count": 3,
   "metadata": {},
   "outputs": [],
   "source": [
    "class DigitRecognizer(nn.Module):\n",
    "    def __init__(self, input_size, hidden_layers, num_classes):\n",
    "        super(DigitRecognizer, self).__init__()\n",
    "        self.input = nn.Linear(input_size, hidden_sizes[0])\n",
    "        self.relu_0 = nn.ReLU()\n",
    "        self.hidden1 = nn.Linear(hidden_sizes[0], hidden_sizes[1])\n",
    "        self.relu_1 = nn.ReLU()\n",
    "        self.output = nn.Linear(hidden_sizes[1], num_classes)\n",
    "        \n",
    "    def forward(self, X):\n",
    "        model = self.input(X)\n",
    "        model = self.relu_0(model)\n",
    "        model = self.hidden1(model)\n",
    "        model = self.relu_1(model)\n",
    "        model = self.output(model)\n",
    "        return model "
   ]
  },
  {
   "cell_type": "code",
   "execution_count": 5,
   "metadata": {},
   "outputs": [],
   "source": [
    "batch_size = 50\n",
    "transform = transforms.Compose([transforms.ToTensor(),transforms.Normalize((0.5,), (0.5,)),])\n",
    "train_data = datasets.MNIST('./', download=True, train=True, transform=transform)\n",
    "test_data = datasets.MNIST('./', download=True, train=False, transform=transform)\n",
    "train_loader = DataLoader(train_data, batch_size=batch_size, shuffle=True, num_workers=2)\n",
    "test_loader = DataLoader(test_data, batch_size=batch_size, shuffle=False , num_workers=2)"
   ]
  },
  {
   "cell_type": "code",
   "execution_count": 32,
   "metadata": {},
   "outputs": [],
   "source": [
    "model = torch.load('digit_classifier.pt')\n",
    "model.eval()\n",
    "\n",
    "def eval_model(model, images):\n",
    "    # images, labels are batches of 50\n",
    "    images = images.reshape(-1, 784)\n",
    "    outputs = model(images) \n",
    "\n",
    "    _, test_predicted = torch.max(outputs.data,1)\n",
    "    return test_predicted"
   ]
  },
  {
   "cell_type": "code",
   "execution_count": 39,
   "metadata": {},
   "outputs": [],
   "source": [
    "#adversarial criterion is untargeted\n",
    "def generate_initial_adverarial(targeted_class):\n",
    "    while True: \n",
    "        adversarial = np.random.randint(low = 0, high = 255, size = (50,28,28))\n",
    "        model_output = eval_model(model, torch.tensor(adversarial, dtype = torch.float32)).item()\n",
    "        if model_output != targeted_class: \n",
    "            return adversarial"
   ]
  },
  {
   "cell_type": "code",
   "execution_count": 76,
   "metadata": {},
   "outputs": [],
   "source": [
    "def sample_proposal_dist(original_image, prev_image, shape, delta):\n",
    "    new_pertubation = np.random.normal(size = shape)\n",
    "    # normalize the pertubation\n",
    "    new_pertubation /= np.linalg.norm(new_pertubation, 2)\n",
    "    # scale its l2 norm as follows: ||n_k||_2 = delta * d(0,0^k-1)\n",
    "    new_pertubation *= delta * np.linalg.norm(original_image - prev_image)\n",
    "    perturbed_image = new_pertubation + prev_image\n",
    "    return perturbed_image"
   ]
  },
  {
   "cell_type": "code",
   "execution_count": null,
   "metadata": {},
   "outputs": [],
   "source": [
    "#The distance between points is defined as the norm of their difference.\n",
    "def project_onto_sphere(original_image, pertubation):\n",
    "    # radius of the circle\n",
    "    orthogonal_vector = (original_image - pertubation).astype(np.float32)\n",
    "    \n",
    "    \n",
    "    \n",
    "    \n",
    "    \n",
    "    \n",
    "    "
   ]
  },
  {
   "cell_type": "code",
   "execution_count": 40,
   "metadata": {},
   "outputs": [],
   "source": [
    "# d(0,0^k-1) - d(0,0^k-1 + n^k) =  epsilon d(0,0^k-1)\n",
    "def step_towards(original_image, perturbed_image, epsilon):\n",
    "    return (original_image - perturbed_image).astype(np.float32) * epsilon"
   ]
  }
 ],
 "metadata": {
  "accelerator": "GPU",
  "colab": {
   "collapsed_sections": [],
   "name": "Hello_World.ipynb",
   "provenance": []
  },
  "kernelspec": {
   "display_name": "Python 3 (ipykernel)",
   "language": "python",
   "name": "python3"
  },
  "language_info": {
   "codemirror_mode": {
    "name": "ipython",
    "version": 3
   },
   "file_extension": ".py",
   "mimetype": "text/x-python",
   "name": "python",
   "nbconvert_exporter": "python",
   "pygments_lexer": "ipython3",
   "version": "3.9.9"
  }
 },
 "nbformat": 4,
 "nbformat_minor": 1
}
